{
  "cells": [
    {
      "cell_type": "markdown",
      "metadata": {
        "id": "view-in-github",
        "colab_type": "text"
      },
      "source": [
        "<a href=\"https://colab.research.google.com/github/rajkstats/uplimit_nlp/blob/main/embedding_retrieval_rk.ipynb\" target=\"_parent\"><img src=\"https://colab.research.google.com/assets/colab-badge.svg\" alt=\"Open In Colab\"/></a>"
      ]
    },
    {
      "cell_type": "markdown",
      "metadata": {
        "id": "5KOY_LsBykPh"
      },
      "source": [
        "> DUPLICATE THIS COLAB TO START WORKING ON IT. Using File > Save a copy to drive.\n",
        "\n",
        "\n",
        "# Embedding-Based Retrieval\n",
        "\n",
        "### What we are building\n",
        "The goal of Embedding-Based Retrieval is to retrieve top-k candidates given a query based on embedding similarity/distance. A common application for this is given a query/sentence/document, find top-k similar candidates wrt query. While this is usually solved using TF-IDF/Information Retrieval (IR) based approaches, it is becoming more and more common in the industry to use an embedding based approach: encode the query and document as an embedding and use approximate nearest neighbor search to find top-k candidates in real-time.\n",
        "\n",
        "We will build a system to find duplicate questions on Quora using a [dataset released by Quora](https://quoradata.quora.com/First-Quora-Dataset-Release-Question-Pairs). A very common problem for forums/QA websites is trying to determine whether a question has already been asked before a user posts it.\n",
        "\n",
        "We will continue to apply our learning philosophy of repetition as we build multiple models of increasing complexity in the following order:\n",
        "\n",
        "1. Retrieval based on WordVectors\n",
        "1. Using BERT\n",
        "1. Using Sentence BERT\n",
        "1. Using Cohere Sentence Embeddings\n",
        "\n",
        "###  Evaluation\n",
        "We will evaluate our models along the following metrics:\n",
        "\n",
        "1. Recall@k: the proportion of relevant items found in the top-k matches\n",
        "1. Mean Reciprocal Rank: the rank of the first relevant item with respect to the top-k.\n",
        "\n",
        "### Instructions\n",
        "\n",
        "1. We have provided scaffolding for all the boilerplate FAISS code to get to our baseline model. This covers downloading and parsing the dataset, and training code for the baseline model. **Make sure to read all the steps and internalize what is happening**.\n",
        "1. At this point in our model, we will aim to use BERT embeddings. **Does this improve accuracy?**\n",
        "1. In the third model, we will use Sentence BERT and then we'll see if they can boost up our model. **How do you think this model will perform?**\n",
        "1. **Extension**: We have suggested a bunch of extensions to the project so go crazy! Tweak any parts of the pipeline, and see if you can beat all the current models.\n",
        "\n",
        "### Code Overview\n",
        "\n",
        "- Dependencies: Install and import python dependencies\n",
        "- Project\n",
        "  - Dataset: Download the Quora dataset\n",
        "  - Indexer: Function to manage and create a Faiss Index\n",
        "  - Model 1: Word Vectors\n",
        "  - Model 2: BERT\n",
        "  - Model 3: Sentence BERT\n",
        "  - Model 4: Cohere Sentence Embeddings\n",
        "- Extensions\n"
      ]
    },
    {
      "cell_type": "markdown",
      "metadata": {
        "id": "VTxoy7chykPm"
      },
      "source": [
        "# Dependencies\n",
        "\n",
        "✨ Now let's get started! To kick things off, as always, we will install some dependencies."
      ]
    },
    {
      "cell_type": "code",
      "source": [
        "!pip install spacy faiss-cpu torch sentence-transformers transformers --quiet\n",
        "!python -m spacy download en_core_web_lg"
      ],
      "metadata": {
        "id": "qd3o6JbYyqt7",
        "colab": {
          "base_uri": "https://localhost:8080/"
        },
        "outputId": "84137071-095c-48c8-c322-3e8ad6471368"
      },
      "execution_count": 1,
      "outputs": [
        {
          "output_type": "stream",
          "name": "stdout",
          "text": [
            "\u001b[2K   \u001b[90m━━━━━━━━━━━━━━━━━━━━━━━━━━━━━━━━━━━━━━━━\u001b[0m \u001b[32m27.0/27.0 MB\u001b[0m \u001b[31m35.8 MB/s\u001b[0m eta \u001b[36m0:00:00\u001b[0m\n",
            "\u001b[2K   \u001b[90m━━━━━━━━━━━━━━━━━━━━━━━━━━━━━━━━━━━━━━━━\u001b[0m \u001b[32m227.1/227.1 kB\u001b[0m \u001b[31m12.2 MB/s\u001b[0m eta \u001b[36m0:00:00\u001b[0m\n",
            "\u001b[?25hCollecting en-core-web-lg==3.7.1\n",
            "  Downloading https://github.com/explosion/spacy-models/releases/download/en_core_web_lg-3.7.1/en_core_web_lg-3.7.1-py3-none-any.whl (587.7 MB)\n",
            "\u001b[2K     \u001b[90m━━━━━━━━━━━━━━━━━━━━━━━━━━━━━━━━━━━━━━━━\u001b[0m \u001b[32m587.7/587.7 MB\u001b[0m \u001b[31m780.7 kB/s\u001b[0m eta \u001b[36m0:00:00\u001b[0m\n",
            "\u001b[?25hRequirement already satisfied: spacy<3.8.0,>=3.7.2 in /usr/local/lib/python3.10/dist-packages (from en-core-web-lg==3.7.1) (3.7.5)\n",
            "Requirement already satisfied: spacy-legacy<3.1.0,>=3.0.11 in /usr/local/lib/python3.10/dist-packages (from spacy<3.8.0,>=3.7.2->en-core-web-lg==3.7.1) (3.0.12)\n",
            "Requirement already satisfied: spacy-loggers<2.0.0,>=1.0.0 in /usr/local/lib/python3.10/dist-packages (from spacy<3.8.0,>=3.7.2->en-core-web-lg==3.7.1) (1.0.5)\n",
            "Requirement already satisfied: murmurhash<1.1.0,>=0.28.0 in /usr/local/lib/python3.10/dist-packages (from spacy<3.8.0,>=3.7.2->en-core-web-lg==3.7.1) (1.0.10)\n",
            "Requirement already satisfied: cymem<2.1.0,>=2.0.2 in /usr/local/lib/python3.10/dist-packages (from spacy<3.8.0,>=3.7.2->en-core-web-lg==3.7.1) (2.0.8)\n",
            "Requirement already satisfied: preshed<3.1.0,>=3.0.2 in /usr/local/lib/python3.10/dist-packages (from spacy<3.8.0,>=3.7.2->en-core-web-lg==3.7.1) (3.0.9)\n",
            "Requirement already satisfied: thinc<8.3.0,>=8.2.2 in /usr/local/lib/python3.10/dist-packages (from spacy<3.8.0,>=3.7.2->en-core-web-lg==3.7.1) (8.2.5)\n",
            "Requirement already satisfied: wasabi<1.2.0,>=0.9.1 in /usr/local/lib/python3.10/dist-packages (from spacy<3.8.0,>=3.7.2->en-core-web-lg==3.7.1) (1.1.3)\n",
            "Requirement already satisfied: srsly<3.0.0,>=2.4.3 in /usr/local/lib/python3.10/dist-packages (from spacy<3.8.0,>=3.7.2->en-core-web-lg==3.7.1) (2.4.8)\n",
            "Requirement already satisfied: catalogue<2.1.0,>=2.0.6 in /usr/local/lib/python3.10/dist-packages (from spacy<3.8.0,>=3.7.2->en-core-web-lg==3.7.1) (2.0.10)\n",
            "Requirement already satisfied: weasel<0.5.0,>=0.1.0 in /usr/local/lib/python3.10/dist-packages (from spacy<3.8.0,>=3.7.2->en-core-web-lg==3.7.1) (0.4.1)\n",
            "Requirement already satisfied: typer<1.0.0,>=0.3.0 in /usr/local/lib/python3.10/dist-packages (from spacy<3.8.0,>=3.7.2->en-core-web-lg==3.7.1) (0.12.3)\n",
            "Requirement already satisfied: tqdm<5.0.0,>=4.38.0 in /usr/local/lib/python3.10/dist-packages (from spacy<3.8.0,>=3.7.2->en-core-web-lg==3.7.1) (4.66.5)\n",
            "Requirement already satisfied: requests<3.0.0,>=2.13.0 in /usr/local/lib/python3.10/dist-packages (from spacy<3.8.0,>=3.7.2->en-core-web-lg==3.7.1) (2.32.3)\n",
            "Requirement already satisfied: pydantic!=1.8,!=1.8.1,<3.0.0,>=1.7.4 in /usr/local/lib/python3.10/dist-packages (from spacy<3.8.0,>=3.7.2->en-core-web-lg==3.7.1) (2.8.2)\n",
            "Requirement already satisfied: jinja2 in /usr/local/lib/python3.10/dist-packages (from spacy<3.8.0,>=3.7.2->en-core-web-lg==3.7.1) (3.1.4)\n",
            "Requirement already satisfied: setuptools in /usr/local/lib/python3.10/dist-packages (from spacy<3.8.0,>=3.7.2->en-core-web-lg==3.7.1) (71.0.4)\n",
            "Requirement already satisfied: packaging>=20.0 in /usr/local/lib/python3.10/dist-packages (from spacy<3.8.0,>=3.7.2->en-core-web-lg==3.7.1) (24.1)\n",
            "Requirement already satisfied: langcodes<4.0.0,>=3.2.0 in /usr/local/lib/python3.10/dist-packages (from spacy<3.8.0,>=3.7.2->en-core-web-lg==3.7.1) (3.4.0)\n",
            "Requirement already satisfied: numpy>=1.19.0 in /usr/local/lib/python3.10/dist-packages (from spacy<3.8.0,>=3.7.2->en-core-web-lg==3.7.1) (1.26.4)\n",
            "Requirement already satisfied: language-data>=1.2 in /usr/local/lib/python3.10/dist-packages (from langcodes<4.0.0,>=3.2.0->spacy<3.8.0,>=3.7.2->en-core-web-lg==3.7.1) (1.2.0)\n",
            "Requirement already satisfied: annotated-types>=0.4.0 in /usr/local/lib/python3.10/dist-packages (from pydantic!=1.8,!=1.8.1,<3.0.0,>=1.7.4->spacy<3.8.0,>=3.7.2->en-core-web-lg==3.7.1) (0.7.0)\n",
            "Requirement already satisfied: pydantic-core==2.20.1 in /usr/local/lib/python3.10/dist-packages (from pydantic!=1.8,!=1.8.1,<3.0.0,>=1.7.4->spacy<3.8.0,>=3.7.2->en-core-web-lg==3.7.1) (2.20.1)\n",
            "Requirement already satisfied: typing-extensions>=4.6.1 in /usr/local/lib/python3.10/dist-packages (from pydantic!=1.8,!=1.8.1,<3.0.0,>=1.7.4->spacy<3.8.0,>=3.7.2->en-core-web-lg==3.7.1) (4.12.2)\n",
            "Requirement already satisfied: charset-normalizer<4,>=2 in /usr/local/lib/python3.10/dist-packages (from requests<3.0.0,>=2.13.0->spacy<3.8.0,>=3.7.2->en-core-web-lg==3.7.1) (3.3.2)\n",
            "Requirement already satisfied: idna<4,>=2.5 in /usr/local/lib/python3.10/dist-packages (from requests<3.0.0,>=2.13.0->spacy<3.8.0,>=3.7.2->en-core-web-lg==3.7.1) (3.7)\n",
            "Requirement already satisfied: urllib3<3,>=1.21.1 in /usr/local/lib/python3.10/dist-packages (from requests<3.0.0,>=2.13.0->spacy<3.8.0,>=3.7.2->en-core-web-lg==3.7.1) (2.0.7)\n",
            "Requirement already satisfied: certifi>=2017.4.17 in /usr/local/lib/python3.10/dist-packages (from requests<3.0.0,>=2.13.0->spacy<3.8.0,>=3.7.2->en-core-web-lg==3.7.1) (2024.7.4)\n",
            "Requirement already satisfied: blis<0.8.0,>=0.7.8 in /usr/local/lib/python3.10/dist-packages (from thinc<8.3.0,>=8.2.2->spacy<3.8.0,>=3.7.2->en-core-web-lg==3.7.1) (0.7.11)\n",
            "Requirement already satisfied: confection<1.0.0,>=0.0.1 in /usr/local/lib/python3.10/dist-packages (from thinc<8.3.0,>=8.2.2->spacy<3.8.0,>=3.7.2->en-core-web-lg==3.7.1) (0.1.5)\n",
            "Requirement already satisfied: click>=8.0.0 in /usr/local/lib/python3.10/dist-packages (from typer<1.0.0,>=0.3.0->spacy<3.8.0,>=3.7.2->en-core-web-lg==3.7.1) (8.1.7)\n",
            "Requirement already satisfied: shellingham>=1.3.0 in /usr/local/lib/python3.10/dist-packages (from typer<1.0.0,>=0.3.0->spacy<3.8.0,>=3.7.2->en-core-web-lg==3.7.1) (1.5.4)\n",
            "Requirement already satisfied: rich>=10.11.0 in /usr/local/lib/python3.10/dist-packages (from typer<1.0.0,>=0.3.0->spacy<3.8.0,>=3.7.2->en-core-web-lg==3.7.1) (13.7.1)\n",
            "Requirement already satisfied: cloudpathlib<1.0.0,>=0.7.0 in /usr/local/lib/python3.10/dist-packages (from weasel<0.5.0,>=0.1.0->spacy<3.8.0,>=3.7.2->en-core-web-lg==3.7.1) (0.18.1)\n",
            "Requirement already satisfied: smart-open<8.0.0,>=5.2.1 in /usr/local/lib/python3.10/dist-packages (from weasel<0.5.0,>=0.1.0->spacy<3.8.0,>=3.7.2->en-core-web-lg==3.7.1) (7.0.4)\n",
            "Requirement already satisfied: MarkupSafe>=2.0 in /usr/local/lib/python3.10/dist-packages (from jinja2->spacy<3.8.0,>=3.7.2->en-core-web-lg==3.7.1) (2.1.5)\n",
            "Requirement already satisfied: marisa-trie>=0.7.7 in /usr/local/lib/python3.10/dist-packages (from language-data>=1.2->langcodes<4.0.0,>=3.2.0->spacy<3.8.0,>=3.7.2->en-core-web-lg==3.7.1) (1.2.0)\n",
            "Requirement already satisfied: markdown-it-py>=2.2.0 in /usr/local/lib/python3.10/dist-packages (from rich>=10.11.0->typer<1.0.0,>=0.3.0->spacy<3.8.0,>=3.7.2->en-core-web-lg==3.7.1) (3.0.0)\n",
            "Requirement already satisfied: pygments<3.0.0,>=2.13.0 in /usr/local/lib/python3.10/dist-packages (from rich>=10.11.0->typer<1.0.0,>=0.3.0->spacy<3.8.0,>=3.7.2->en-core-web-lg==3.7.1) (2.16.1)\n",
            "Requirement already satisfied: wrapt in /usr/local/lib/python3.10/dist-packages (from smart-open<8.0.0,>=5.2.1->weasel<0.5.0,>=0.1.0->spacy<3.8.0,>=3.7.2->en-core-web-lg==3.7.1) (1.16.0)\n",
            "Requirement already satisfied: mdurl~=0.1 in /usr/local/lib/python3.10/dist-packages (from markdown-it-py>=2.2.0->rich>=10.11.0->typer<1.0.0,>=0.3.0->spacy<3.8.0,>=3.7.2->en-core-web-lg==3.7.1) (0.1.2)\n",
            "Installing collected packages: en-core-web-lg\n",
            "Successfully installed en-core-web-lg-3.7.1\n",
            "\u001b[38;5;2m✔ Download and installation successful\u001b[0m\n",
            "You can now load the package via spacy.load('en_core_web_lg')\n",
            "\u001b[38;5;3m⚠ Restart to reload dependencies\u001b[0m\n",
            "If you are in a Jupyter or Colab notebook, you may need to restart Python in\n",
            "order to load all the package's dependencies. You can do this by selecting the\n",
            "'Restart kernel' or 'Restart runtime' option.\n"
          ]
        }
      ]
    },
    {
      "cell_type": "code",
      "execution_count": 2,
      "metadata": {
        "id": "ACy0LByVykPn",
        "colab": {
          "base_uri": "https://localhost:8080/"
        },
        "outputId": "9b826c62-a683-4201-831e-4152e7675ea0"
      },
      "outputs": [
        {
          "output_type": "stream",
          "name": "stderr",
          "text": [
            "/usr/local/lib/python3.10/dist-packages/sentence_transformers/cross_encoder/CrossEncoder.py:11: TqdmExperimentalWarning: Using `tqdm.autonotebook.tqdm` in notebook mode. Use `tqdm.tqdm` instead to force console mode (e.g. in jupyter console)\n",
            "  from tqdm.autonotebook import tqdm, trange\n"
          ]
        }
      ],
      "source": [
        "# Import all the relevant libraries\n",
        "import csv\n",
        "import spacy\n",
        "import faiss\n",
        "import numpy as np\n",
        "import random\n",
        "import spacy\n",
        "import torch\n",
        "\n",
        "from tqdm import tqdm\n",
        "from collections import defaultdict\n",
        "from sentence_transformers import SentenceTransformer\n",
        "from torch.nn import functional as F\n",
        "from transformers import BertTokenizer, BertModel, BertTokenizerFast, DistilBertTokenizer, DistilBertModel\n",
        "\n",
        "torch.set_default_device('cuda')\n",
        "\n",
        "# Load the spacy data\n",
        "nlp = spacy.load(\"en_core_web_lg\")"
      ]
    },
    {
      "cell_type": "markdown",
      "metadata": {
        "id": "VjhNIun4ykPo"
      },
      "source": [
        "# Embedding Based Retrieval\n",
        "\n",
        "✨ Let's Begin ✨"
      ]
    },
    {
      "cell_type": "markdown",
      "metadata": {
        "id": "MQTMnFyLykPp"
      },
      "source": [
        "### Data Loading and Processing (Common to ALL Solutions)\n",
        "\n",
        "#### Dataset\n",
        "\n",
        "Download the duplicate questions [dataset released by Quora](https://quoradata.quora.com/First-Quora-Dataset-Release-Question-Pairs).\n"
      ]
    },
    {
      "cell_type": "code",
      "execution_count": 3,
      "metadata": {
        "id": "_VaVmA8iykPp"
      },
      "outputs": [],
      "source": [
        "%%capture\n",
        "!wget 'http://qim.fs.quoracdn.net/quora_duplicate_questions.tsv'\n",
        "!mkdir qqp\n",
        "!mv quora_duplicate_questions.tsv qqp/\n",
        "!ls qqp/"
      ]
    },
    {
      "cell_type": "markdown",
      "metadata": {
        "id": "xWQZojidykPp"
      },
      "source": [
        "Perfect. Now we see all of our files. Let's poke at one of them before we start parsing our dataset."
      ]
    },
    {
      "cell_type": "code",
      "execution_count": 4,
      "metadata": {
        "id": "AN_wkgwgykPq",
        "colab": {
          "base_uri": "https://localhost:8080/"
        },
        "outputId": "b77eb151-3f62-4a61-a755-8371160657c6"
      },
      "outputs": [
        {
          "output_type": "stream",
          "name": "stdout",
          "text": [
            "['id', 'qid1', 'qid2', 'question1', 'question2', 'is_duplicate']\n",
            "['0', '1', '2', 'What is the step by step guide to invest in share market in india?', 'What is the step by step guide to invest in share market?', '0']\n",
            "['1', '3', '4', 'What is the story of Kohinoor (Koh-i-Noor) Diamond?', 'What would happen if the Indian government stole the Kohinoor (Koh-i-Noor) diamond back?', '0']\n",
            "['2', '5', '6', 'How can I increase the speed of my internet connection while using a VPN?', 'How can Internet speed be increased by hacking through DNS?', '0']\n",
            "['3', '7', '8', 'Why am I mentally very lonely? How can I solve it?', 'Find the remainder when [math]23^{24}[/math] is divided by 24,23?', '0']\n",
            "['4', '9', '10', 'Which one dissolve in water quikly sugar, salt, methane and carbon di oxide?', 'Which fish would survive in salt water?', '0']\n",
            "['5', '11', '12', 'Astrology: I am a Capricorn Sun Cap moon and cap rising...what does that say about me?', \"I'm a triple Capricorn (Sun, Moon and ascendant in Capricorn) What does this say about me?\", '1']\n",
            "['6', '13', '14', 'Should I buy tiago?', 'What keeps childern active and far from phone and video games?', '0']\n",
            "['7', '15', '16', 'How can I be a good geologist?', 'What should I do to be a great geologist?', '1']\n",
            "['8', '17', '18', 'When do you use シ instead of し?', 'When do you use \"&\" instead of \"and\"?', '0']\n"
          ]
        }
      ],
      "source": [
        "DATA_FILE = \"qqp/quora_duplicate_questions.tsv\"\n",
        "\n",
        "# The file is a 6-column tab separated file.\n",
        "# The first column is the row_id, second and third questions are ids of\n",
        "# specific questions, followed by the text of questions.\n",
        "# The last column captures if the two questions are duplicates\n",
        "with open(DATA_FILE, 'r', newline='\\n') as file:\n",
        "  reader = csv.reader(file, delimiter = '\\t')\n",
        "  # Read first 10 lines\n",
        "  for i in range(10):\n",
        "    print(next(reader))"
      ]
    },
    {
      "cell_type": "markdown",
      "metadata": {
        "id": "Cg5pKaMZykPq"
      },
      "source": [
        "The dataset has more than 500k questions! We are going to parse the full dataset and create a sample of 10k questions to experiment with in our models since BERT training & inference can be really slow."
      ]
    },
    {
      "cell_type": "code",
      "execution_count": 5,
      "metadata": {
        "id": "2EyrfCOqykPr",
        "colab": {
          "base_uri": "https://localhost:8080/"
        },
        "outputId": "3222aa52-3b77-49b0-86ba-d33a057d7298"
      },
      "outputs": [
        {
          "output_type": "stream",
          "name": "stdout",
          "text": [
            "Number of unique questions: 10000\n",
            "Number of question with duplicates: 3810\n",
            "Number of questions in sample: 10000\n",
            "Number of duplicate pairs in sample: 3589\n"
          ]
        }
      ],
      "source": [
        "\"\"\"\n",
        "Util function to parse the file\n",
        "\"\"\"\n",
        "def parse_sample_dataset(file_path, sample_max_id):\n",
        "  \"\"\"\n",
        "  Inputs:\n",
        "    file_path: Path to the raw data file\n",
        "    sample_max_id: Max question id to be considered in the sampled dataset\n",
        "\n",
        "  Returns 4 objects:\n",
        "    1. QuestionMap: list of all question ids\n",
        "    2. DuplicatesMap: Map of questionID to it's duplicates\n",
        "    3. SampleDataset: list of questionIds in the sample\n",
        "    4. SampleEvalDataset: list of pair of duplicate questions in the sample\n",
        "  \"\"\"\n",
        "  question_map = {}\n",
        "  duplicates_map = defaultdict(set)\n",
        "  sample_dataset = set([])\n",
        "  sample_eval_dataset = []\n",
        "\n",
        "  with open(file_path, 'r', newline='\\n') as file:\n",
        "    reader = csv.reader(file, delimiter='\\t')\n",
        "    next(reader)  # Skip the header line\n",
        "\n",
        "    for row in reader:\n",
        "      if len(row) != 6: # Skip incomplete rows\n",
        "        continue\n",
        "\n",
        "      # Limit the sample size of the dataset at max_id\n",
        "      # Make sure all 4 objects start at index 0\n",
        "      qid1, qid2, label = int(row[1]) - 1, int(row[2]) - 1, int(row[5])\n",
        "      if qid1 < sample_max_id and qid2 < sample_max_id:\n",
        "\n",
        "        if qid1 not in question_map:\n",
        "          question_map[qid1] = str(row[3])\n",
        "        if qid2 not in question_map:\n",
        "          question_map[qid2] = str(row[4])\n",
        "\n",
        "        if label == 1:\n",
        "          duplicates_map[qid1].add(qid2)\n",
        "          duplicates_map[qid2].add(qid1)\n",
        "\n",
        "          sample_eval_dataset.append((qid1, qid2))\n",
        "\n",
        "        sample_dataset.add(qid1)\n",
        "        sample_dataset.add(qid2)\n",
        "\n",
        "  # sample dataset duplicates removed via set(), so turn back into list\n",
        "  return question_map, duplicates_map, list(sample_dataset), sample_eval_dataset\n",
        "\n",
        "question_map, duplicates_map, sample_dataset, sample_eval_dataset, = parse_sample_dataset(DATA_FILE, 10000)\n",
        "\n",
        "# Complete file: 537k unique questions, 400k duplicate.\n",
        "# To keep training time manageable limited to 10.000 (sample_max_id)\n",
        "print(\"Number of unique questions:\", len(question_map)) # 10.000\n",
        "print(\"Number of question with duplicates:\", len(duplicates_map)) # ~3.8k\n",
        "print(\"Number of questions in sample:\", len(sample_dataset)) # 10.000\n",
        "print(\"Number of duplicate pairs in sample:\", len(sample_eval_dataset)) # ~3.6k"
      ]
    },
    {
      "cell_type": "markdown",
      "metadata": {
        "id": "d98BHYMlykPr"
      },
      "source": [
        "# Retrieval using Faiss -- TO BE COMPLETED\n",
        "\n",
        "You are now going to create an Indexer class that implements multiple functions for indexing, searching, and evaluating our retrieval model. FAISS documentation can be found in the wiki here: https://github.com/facebookresearch/faiss/wiki/Getting-started\n",
        "\n",
        "Some helpful FAISS guides are:\n",
        "- https://www.pinecone.io/learn/faiss-tutorial/\n",
        "- https://www.pinecone.io/learn/vector-indexes/\n",
        "\n",
        "You need to implement the following functions:\n",
        "\n",
        "1. **search**: Implement a function that takes a question and top_k variable and returns either the matched strings or the ids\n",
        "    1. Call the search API on the faiss_index to look up similar sentences using `faiss_index.search`\n",
        "    2. Parse the output to either return [sentence_id, score] tuples or [sentence, score] tuples based on the input parameter\n",
        "    3. Sort the output by the score in descending order\n",
        "\n",
        "1. **evaluate**: Sample num_docs pairs from the evaluation dataset and then check if the qid2 is present in the top-k results\n",
        "    1. For each eval sample, find the top_k matches for the qid1\n",
        "    2. See if the qid2 is in one of the matches\n",
        "    3. If yes, append (1) to the recall array otherwise append (0)\n",
        "    4. Implement MRR (Mean reciprocal rank) addition based on the position of qid2 in matches.\n"
      ]
    },
    {
      "cell_type": "code",
      "execution_count": 6,
      "metadata": {
        "id": "p0Z1NhwMykPs"
      },
      "outputs": [],
      "source": [
        "class FaissIndexer:\n",
        "  def __init__(self, dataset,\n",
        "               question_map,\n",
        "               eval_dataset,\n",
        "               batch_size,\n",
        "               sentence_vector_dim,\n",
        "               vectorizer):\n",
        "    self.question_map = question_map\n",
        "    self.dataset = dataset\n",
        "    self.eval_dataset = eval_dataset\n",
        "    self.batch_size = batch_size\n",
        "    self.vectorizer = vectorizer\n",
        "    # FlatIP uses inner product\n",
        "    self.faiss_index = faiss.IndexFlatIP(sentence_vector_dim)\n",
        "\n",
        "\n",
        "  def split_list(self, lst: list, sublist_size: int):\n",
        "    sublists = []\n",
        "    # Split list into even chunks/sublists/batches\n",
        "    for i in range(0, len(lst), sublist_size):\n",
        "      sublists.append(lst[i:i + sublist_size])\n",
        "    return sublists\n",
        "\n",
        "\n",
        "  def index(self):\n",
        "    sentence_vectors = []\n",
        "\n",
        "    print(\"Start indexing!\")\n",
        "    for sentence_ids in tqdm(self.split_list(self.dataset, self.batch_size)):\n",
        "      # Retrieve sentences based on qid\n",
        "      sentences = [question_map[qid] for qid in sentence_ids]\n",
        "      # Get embeddings of the sentences (Spacy, ..., OpenAI, Cohere)\n",
        "      sentence_vectors_batch = self.vectorizer.vectorize(sentences)\n",
        "      # Add batch to temporary list\n",
        "      sentence_vectors.append(sentence_vectors_batch)\n",
        "\n",
        "    # Add all batches from temporary list to index\n",
        "    self.faiss_index.add(np.array(np.concatenate(sentence_vectors, axis=0)))\n",
        "    print(\"\\nDone indexing!\")\n",
        "\n",
        "\n",
        "  def search(self, question: str, top_k: int, return_ids=False):\n",
        "    \"\"\"Given any sentence (typed by the user)\n",
        "    We return a list of top_k(sentence, sim_score) or top_k(sentence_ids, sim_score)\n",
        "\n",
        "    NOTE: The output type is controlled by the return_ids flag\n",
        "\n",
        "    1. Call the search API on the faiss_index to look up similar sentences\n",
        "       using `faiss_index.search`\n",
        "    2. Parse the output to either return [sentence_id, score] tuples or\n",
        "       [sentence, score] tuples based on return_ids being true/false\n",
        "    3. Sort the output by the score in descending order\n",
        "    \"\"\"\n",
        "\n",
        "    # NOTE: We converted the question to a list here to match the signature\n",
        "    # of the vectorize function\n",
        "    question_vectors = self.vectorizer.vectorize([question])\n",
        "\n",
        "    scores, indices = self.faiss_index.search(question_vectors, top_k)\n",
        "    if return_ids:\n",
        "      return list(zip(indices[0], scores[0]))\n",
        "    else:\n",
        "      return list(zip([self.question_map[index] for index in indices[0]], scores[0]))\n",
        "\n",
        "    # Output is a List[(qid, score), (qid, score), (qid, score)] or\n",
        "    # List[(q, score), (q, score), (q, score)] based on return_ids\n",
        "    # Output is sorted in descending order of score\n",
        "    return output\n",
        "\n",
        "\n",
        "  def evaluate(self, top_k: int, eval_sample_size: int):\n",
        "    \"\"\"Sample num_docs pairs from the evaluation dataset and then check\n",
        "    if the qid2 is present in the top-k results\n",
        "\n",
        "    1. For each eval sample, find the top_k matches for the qid1\n",
        "    2. See if the qid2 is in one of the matches\n",
        "    3. If yes, append (1) to the recall array otherwise append (0)\n",
        "    4. Implement MRR (Mean reciprocal rank) addition based on the position of qid2 in matches\n",
        "      - Note: MRR is equivalent to mean([1/r or 0 for each sample])\n",
        "    \"\"\"\n",
        "    # Sample from evaluation dataset as proxy for performance metrics\n",
        "    eval_sample = random.sample(self.eval_dataset, eval_sample_size)\n",
        "\n",
        "    # Retrieval metrics which only care about if searched for\n",
        "    # item is present among the results.\n",
        "    recall_at_k = [] # Relevant items vs total of relevant items\n",
        "    mean_reciprocal_rank = [] # Rank of the first relevant item\n",
        "\n",
        "    # 1. For each eval sample, find the top_k matches for the qid1\n",
        "    for qid1, qid2 in tqdm(eval_sample, desc=\"Evaluating random samples\"):\n",
        "      matches = self.search(question=self.question_map[qid1],top_k=top_k, return_ids=True)\n",
        "      matches = [qid for qid, score in matches]\n",
        "      # 2. See if the qid2 is in one of the matches\n",
        "      # 3. If yes, append (1) to the recall array otherwise append (0)\n",
        "      if qid2 in matches:\n",
        "        recall_at_k.append(1)\n",
        "        # 4. Implement MRR (Mean reciprocal rank) addition based on the position of qid2 in matches\n",
        "        mean_reciprocal_rank.append(1/ (matches.index(qid2) + 1))\n",
        "      else:\n",
        "        recall_at_k.append(0)\n",
        "\n",
        "    print(\"\\nRecall@{}:\\t\\t{:0.2f}%\".format(top_k, np.mean(np.array(recall_at_k) * 100.0)))\n",
        "    print(\"Mean Reciprocal Rank:\\t{:0.2f}\".format(np.mean(np.array(mean_reciprocal_rank))))\n",
        "\n",
        "\n",
        "  # Helper function to train, search and evaluate similar output from all the models created.\n",
        "  def train_and_evaluate(self,\n",
        "                         question_example: str,\n",
        "                         top_k: int = 10,\n",
        "                         eval_sample_size: int = 1000\n",
        "                         ):\n",
        "    print(\"---- Indexing ----\")\n",
        "    self.index()\n",
        "    print(\"\\n---- Search ----\")\n",
        "    results = self.search(question_example, top_k, return_ids=False)\n",
        "    print(\"Questions similar to:\", question_example)\n",
        "    for i, (q, s) in enumerate(results):\n",
        "      print(f\"{i} Question: {q} with score {s}\")\n",
        "    print(\"\\n---- Evaluation ----\")\n",
        "    self.evaluate(top_k, eval_sample_size)"
      ]
    },
    {
      "cell_type": "markdown",
      "metadata": {
        "id": "WUdUH-oZykPs"
      },
      "source": [
        "## Dummy Model Test\n",
        "\n",
        "Really small sample of 4 sentences to make sure we can test our implementation of the FAISS search function correctly. We just project the 4 questions in a 2-d space where they are placed on the X-Axis if the word `invest` is present and on the Y-axis if `kohinoor` is present."
      ]
    },
    {
      "cell_type": "code",
      "execution_count": 7,
      "metadata": {
        "id": "3YXmv7tzykPt",
        "colab": {
          "base_uri": "https://localhost:8080/"
        },
        "outputId": "dbd78305-d68f-44e1-ab68-a262dc58350d"
      },
      "outputs": [
        {
          "output_type": "stream",
          "name": "stdout",
          "text": [
            "Questions:\n",
            "0 : What is the step by step guide to invest in share market in india?\n",
            "1 : What is the step by step guide to invest in share market?\n",
            "2 : What is the story of Kohinoor (Koh-i-Noor) Diamond?\n",
            "3 : What would happen if the Indian government stole the Kohinoor (Koh-i-Noor) diamond back?\n"
          ]
        }
      ],
      "source": [
        "dummy_ids = sample_dataset[:4]\n",
        "print(\"Questions:\")\n",
        "for i in dummy_ids:\n",
        "  print(i, \":\", question_map[i])"
      ]
    },
    {
      "cell_type": "code",
      "execution_count": 8,
      "metadata": {
        "id": "IlNEH4xNykPt",
        "colab": {
          "base_uri": "https://localhost:8080/"
        },
        "outputId": "eead7114-7eae-4356-864c-4d43c1a23d14"
      },
      "outputs": [
        {
          "output_type": "stream",
          "name": "stdout",
          "text": [
            "Start indexing!\n"
          ]
        },
        {
          "output_type": "stream",
          "name": "stderr",
          "text": [
            "100%|██████████| 1/1 [00:00<00:00, 1291.35it/s]"
          ]
        },
        {
          "output_type": "stream",
          "name": "stdout",
          "text": [
            "\n",
            "Done indexing!\n",
            "Questions similar to: invest\n",
            "0 Question: What is the step by step guide to invest in share market? with score 0.8326324820518494\n",
            "1 Question: What is the step by step guide to invest in share market in india? with score 0.05103515461087227\n",
            "2 Question: What would happen if the Indian government stole the Kohinoor (Koh-i-Noor) diamond back? with score 0.0\n",
            "3 Question: What is the story of Kohinoor (Koh-i-Noor) Diamond? with score 0.0\n",
            "\n",
            "Questions similar to: Kohinoor\n",
            "0 Question: What is the story of Kohinoor (Koh-i-Noor) Diamond? with score 0.13944043219089508\n",
            "1 Question: What would happen if the Indian government stole the Kohinoor (Koh-i-Noor) diamond back? with score 0.0015394872752949595\n",
            "2 Question: What is the step by step guide to invest in share market? with score 0.0\n",
            "3 Question: What is the step by step guide to invest in share market in india? with score 0.0\n"
          ]
        },
        {
          "output_type": "stream",
          "name": "stderr",
          "text": [
            "\n"
          ]
        }
      ],
      "source": [
        "class DummyVectorizer:\n",
        "  def __init__(self, sentence_vector_dim):\n",
        "    self.sentence_vector_dim = sentence_vector_dim\n",
        "\n",
        "  def vectorize(self, sentences):\n",
        "    \"\"\"Return sentence vectors for the batch of sentences.\n",
        "\n",
        "    1. Tokenize each sentence and create vectors for each token in the sentence\n",
        "    2. Sentence vector is the mean of word vectors of each token\n",
        "    3. Stack the sentence vectors into a numpy array using np.stack\n",
        "    \"\"\"\n",
        "    vectors = []\n",
        "    for sentence in sentences:\n",
        "      if \"invest\" in sentence:\n",
        "        # If \"invest\" is present place it on the X-Axis\n",
        "        vectors.append(np.array([random.random(), 0], dtype=np.float32))\n",
        "      elif \"Kohinoor\" in sentence:\n",
        "        # If \"Kohinoor\" is present place it on the Y-Axis\n",
        "        vectors.append(np.array([0, random.random()], dtype=np.float32))\n",
        "    return np.stack(vectors)\n",
        "\n",
        "\n",
        "di = FaissIndexer(dummy_ids,\n",
        "                  question_map,\n",
        "                  sample_eval_dataset,\n",
        "                  batch_size=1024,\n",
        "                  sentence_vector_dim=2,\n",
        "                  vectorizer=DummyVectorizer(2)\n",
        "                  )\n",
        "\n",
        "di.index()\n",
        "\n",
        "results = di.search(\"invest\", 4)\n",
        "print(\"Questions similar to:\", \"invest\")\n",
        "for i, (q, s) in enumerate(results):\n",
        "  print(f\"{i} Question: {q} with score {s}\")\n",
        "\n",
        "results = di.search(\"Kohinoor\", 4)\n",
        "print(\"\\nQuestions similar to:\", \"Kohinoor\")\n",
        "for i, (q, s) in enumerate(results):\n",
        "  print(f\"{i} Question: {q} with score {s}\")"
      ]
    },
    {
      "cell_type": "markdown",
      "metadata": {
        "id": "JNP7mpLeykPu"
      },
      "source": [
        "# Models\n",
        "\n",
        "You may be wondering, \"When are we going to start building models?\" And, the answer is NOW! Finally the time has come to build our baseline model, and then we'll work towards improving it.\n",
        "\n",
        "\n",
        "**NOTE**: We will be using the sample dataset since BERT is really slow and processing the full dataset will take a lot of time."
      ]
    },
    {
      "cell_type": "markdown",
      "metadata": {
        "id": "Dy1rhQD8ykPu"
      },
      "source": [
        "### Model 1: Averaging Word Vectors\n",
        "##### <font color='red'>Expected recall@10: ~5%, MRR: ~0.02</font>\n",
        "\n",
        "Complete the `vectorize` function using Spacy provided word embeddings. This is something we've done already :)\n",
        "\n",
        "Implementation:\n",
        "\n",
        "1. Tokenize each sentence and get wordVectors for each token in the sentence using Spacy\n",
        "2. Sentence vector is the mean of word vectors of each token\n",
        "3. Stack the sentence vectors into a numpy array using np.stack"
      ]
    },
    {
      "cell_type": "code",
      "execution_count": 23,
      "metadata": {
        "id": "mXSyvvgUykPu",
        "colab": {
          "base_uri": "https://localhost:8080/"
        },
        "outputId": "def8927b-06f3-420f-a900-42053e9f8ba8"
      },
      "outputs": [
        {
          "output_type": "stream",
          "name": "stdout",
          "text": [
            "---- Indexing ----\n",
            "Start indexing!\n"
          ]
        },
        {
          "output_type": "stream",
          "name": "stderr",
          "text": [
            "100%|██████████| 10/10 [01:09<00:00,  6.93s/it]\n"
          ]
        },
        {
          "output_type": "stream",
          "name": "stdout",
          "text": [
            "\n",
            "Done indexing!\n",
            "\n",
            "---- Search ----\n",
            "Questions similar to: how can i invest in stock market in india?\n",
            "0 Question: In how many ways can we create object in Java? with score 1264.3944091796875\n",
            "1 Question: How can we find happiness in life? with score 1203.2908935546875\n",
            "2 Question: I want to connect with you, how can I do that? with score 1198.1932373046875\n",
            "3 Question: How can I can concentrate well in studies? with score 1197.0286865234375\n",
            "4 Question: what can i do to become fair? with score 1191.520263671875\n",
            "5 Question: Why do we need to study? with score 1189.1202392578125\n",
            "6 Question: Minimum marks in NEET2017 to get admission in IISC? with score 1185.002685546875\n",
            "7 Question: How can we earn money online in india? with score 1163.9593505859375\n",
            "8 Question: How can I be happy if I don't have any reason to be? with score 1163.731201171875\n",
            "9 Question: What to do when you don't want to do? with score 1161.207275390625\n",
            "\n",
            "---- Evaluation ----\n"
          ]
        },
        {
          "output_type": "stream",
          "name": "stderr",
          "text": [
            "Evaluating random samples: 100%|██████████| 1000/1000 [00:08<00:00, 114.30it/s]"
          ]
        },
        {
          "output_type": "stream",
          "name": "stdout",
          "text": [
            "\n",
            "Recall@10:\t\t5.60%\n",
            "Mean Reciprocal Rank:\t0.34\n"
          ]
        },
        {
          "output_type": "stream",
          "name": "stderr",
          "text": [
            "\n"
          ]
        }
      ],
      "source": [
        "class SpacyVectorizer:\n",
        "  def __init__(self, sentence_vector_dim):\n",
        "    self.sentence_vector_dim = sentence_vector_dim\n",
        "\n",
        "  def vectorize(self, sentences):\n",
        "        \"\"\"Return sentence vectors for the batch of sentences.\n",
        "\n",
        "    1. Tokenize each sentence and create vectors for each token in the sentence\n",
        "    2. Sentence vector is the mean of word vectors of each token\n",
        "    3. Stack the sentence vectors into a numpy array using np.stack\n",
        "    \"\"\"\n",
        "        vectors = []\n",
        "        for sentence in sentences:\n",
        "            # Tokenize the sentence using Spacy\n",
        "            doc = nlp(sentence)\n",
        "\n",
        "            # Extract the word vectors for each token and compute the mean  vector\n",
        "            token_vectors = [token.vector for token in doc if token.has_vector]\n",
        "\n",
        "            if token_vectors:\n",
        "                # Compute the mean vector\n",
        "                sentence_vector = np.mean(token_vectors, axis=0)\n",
        "            else:\n",
        "                # If no vectors were found, default to a zero vector\n",
        "                sentence_vector = np.zeros(self.sentence_vector_dim)\n",
        "\n",
        "            vectors.append(sentence_vector)\n",
        "        return np.stack(vectors)\n",
        "\n",
        "\n",
        "\n",
        "spacyIndex = FaissIndexer(sample_dataset,\n",
        "                  question_map,\n",
        "                  sample_eval_dataset,\n",
        "                  batch_size=1024,\n",
        "                  sentence_vector_dim=300,\n",
        "                  vectorizer=SpacyVectorizer(300))\n",
        "\n",
        "spacyIndex.train_and_evaluate(question_example = \"how can i invest in stock market in india?\")"
      ]
    },
    {
      "cell_type": "markdown",
      "metadata": {
        "id": "IalW0zBIykPv"
      },
      "source": [
        "### Model 2: BERT Embeddings\n",
        "##### <font color='red'>Expected recall@10: ~48%, MRR: ~0.19</font>\n",
        "\n",
        "Compute the sentence embeddings using the BERT model and complete the `vectorize` function. Feel free to reference any documentation from https://huggingface.co/.\n",
        "\n",
        "\n",
        "Implementation:\n",
        "\n",
        "1. Tokenize batch of sentences using `self.tokenizer`\n",
        "2. Pipe the inputs through the BERT model to create the output logits\n",
        "3. Normalize the batch output\n",
        "\n",
        "**NOTE: This model is really slow and will take a while to run**"
      ]
    },
    {
      "cell_type": "code",
      "execution_count": 21,
      "metadata": {
        "id": "trfsBkYYykPv",
        "colab": {
          "base_uri": "https://localhost:8080/",
          "height": 717,
          "referenced_widgets": [
            "e11ae8637a71499b904bf405c853b11a",
            "d57a1a184b9845949fd46101a7602ec7",
            "9db13a0839eb4c4fb203b62c114a4138",
            "2bc6df07b0ed4c5680176c4726abc585",
            "c7a318cf54bd41f9a2b4ce753949458d",
            "d4080243a8fa45ff84f2017b7fd7981b",
            "2fce111f91bd43bbb6b95b1dbf89bc43",
            "7407831891ac4bdc98b480b8dd2987d4",
            "04ac0053e3d842b196baaf156ef5d14e",
            "4c69dff3da404904967e7b808ed16108",
            "297cfa8bd3e34ffe904c1034faf3dde0",
            "79c45e2b373342b0b79cfcfa38a82ee8",
            "7d715bbe5e6c4adcadc6790dbe52a662",
            "5bc0e364c33e4f2fa6766b19fd8b7aa7",
            "04f35b28382a4f32991f64f35883064c",
            "5846c59718914fa0a57b63228600c011",
            "4f3635b32bc448c486045beb1d2e3409",
            "3a0f69d44c1749ca9c36da26251aff77",
            "132fe732b6f7419990fc4657a041b7c3",
            "bab16aa09d8d4c6284d80f9de65d8be9",
            "3d84e6de30ca4a8197ffa6e7b4b1efd5",
            "e9bcea3bd3c84dd1924274547c3d504e",
            "56db21d0669040bfa53ba7c47bac0641",
            "75e1d5c3e7ed4e7a88e37c3eb3009f64",
            "fd4e669f56f54447b01752a664d1c5ee",
            "e3db2b451b0c4519a08d008c079acd14",
            "ea2c9a1a47ca496c841f699737a14127",
            "c48b501f351f41febfe449c590ef7e31",
            "558e7bb0171c44b3b2457a94d4c6f69a",
            "d87981189daf405e93427185ba8fd73f",
            "75596d3a61714ac89a61abd539112b90",
            "8bc7153a3e9247aeabbe86cc6c75d3ee",
            "01af6ac8c694404eac8e044952434e73",
            "47f6dfd1e5dd40b68c4d8a15c3783b7b",
            "eef9e32bbf5f49218cc74cebdb8ee249",
            "96431d8bcd7749389b59919fc1481892",
            "4746749c9d8e43da924537b382c6b651",
            "718d29d8d6f34bf697972b5b806f538f",
            "cbf30f9c0bbd409e872e97647c499a05",
            "5d8d9fcadf2a47a0b4c835bc86fe34e8",
            "2f46f380955b44de89bd3b09b9fa9997",
            "d360feb5da574bb0aab0e21ef8cdbf18",
            "b7bd84e10d164406ae049f9479c8fa76",
            "91ac0c2282774483a203c1813a8c080b",
            "b95d0c1570244aea81c85bcbdfb809b0",
            "5491a03e03d64793bec50e5195cd85a3",
            "da22d5b0806043d1a7f479614cd0a935",
            "15cfb841136547ab843b23f87c3b83da",
            "a4b1f22ddd01499fb88587ef9af2f571",
            "cf3a0b29e3d349c8aef6087857a3578e",
            "3413d3e3540d41689f076bed9db206ed",
            "8bdc43ccf9a343babdb8b7773ad3e927",
            "d896e023f12b471283dc13a40154a4f4",
            "890a75de6c0f49039bcf47ce79740141",
            "44f4bd8bf53f457ebbba04492db715ef"
          ]
        },
        "outputId": "3af70773-4866-4b93-e3c3-9e9ea5d5c1b6"
      },
      "outputs": [
        {
          "output_type": "display_data",
          "data": {
            "text/plain": [
              "tokenizer_config.json:   0%|          | 0.00/48.0 [00:00<?, ?B/s]"
            ],
            "application/vnd.jupyter.widget-view+json": {
              "version_major": 2,
              "version_minor": 0,
              "model_id": "e11ae8637a71499b904bf405c853b11a"
            }
          },
          "metadata": {}
        },
        {
          "output_type": "display_data",
          "data": {
            "text/plain": [
              "vocab.txt:   0%|          | 0.00/232k [00:00<?, ?B/s]"
            ],
            "application/vnd.jupyter.widget-view+json": {
              "version_major": 2,
              "version_minor": 0,
              "model_id": "79c45e2b373342b0b79cfcfa38a82ee8"
            }
          },
          "metadata": {}
        },
        {
          "output_type": "display_data",
          "data": {
            "text/plain": [
              "tokenizer.json:   0%|          | 0.00/466k [00:00<?, ?B/s]"
            ],
            "application/vnd.jupyter.widget-view+json": {
              "version_major": 2,
              "version_minor": 0,
              "model_id": "56db21d0669040bfa53ba7c47bac0641"
            }
          },
          "metadata": {}
        },
        {
          "output_type": "display_data",
          "data": {
            "text/plain": [
              "config.json:   0%|          | 0.00/570 [00:00<?, ?B/s]"
            ],
            "application/vnd.jupyter.widget-view+json": {
              "version_major": 2,
              "version_minor": 0,
              "model_id": "47f6dfd1e5dd40b68c4d8a15c3783b7b"
            }
          },
          "metadata": {}
        },
        {
          "output_type": "stream",
          "name": "stderr",
          "text": [
            "The tokenizer class you load from this checkpoint is not the same type as the class this function is called from. It may result in unexpected tokenization. \n",
            "The tokenizer class you load from this checkpoint is 'BertTokenizer'. \n",
            "The class this function is called from is 'DistilBertTokenizer'.\n",
            "You are using a model of type bert to instantiate a model of type distilbert. This is not supported for all configurations of models and can yield errors.\n"
          ]
        },
        {
          "output_type": "display_data",
          "data": {
            "text/plain": [
              "model.safetensors:   0%|          | 0.00/440M [00:00<?, ?B/s]"
            ],
            "application/vnd.jupyter.widget-view+json": {
              "version_major": 2,
              "version_minor": 0,
              "model_id": "b95d0c1570244aea81c85bcbdfb809b0"
            }
          },
          "metadata": {}
        },
        {
          "output_type": "stream",
          "name": "stderr",
          "text": [
            "Some weights of DistilBertModel were not initialized from the model checkpoint at bert-base-uncased and are newly initialized: ['embeddings.LayerNorm.bias', 'embeddings.LayerNorm.weight', 'embeddings.position_embeddings.weight', 'embeddings.word_embeddings.weight', 'transformer.layer.0.attention.k_lin.bias', 'transformer.layer.0.attention.k_lin.weight', 'transformer.layer.0.attention.out_lin.bias', 'transformer.layer.0.attention.out_lin.weight', 'transformer.layer.0.attention.q_lin.bias', 'transformer.layer.0.attention.q_lin.weight', 'transformer.layer.0.attention.v_lin.bias', 'transformer.layer.0.attention.v_lin.weight', 'transformer.layer.0.ffn.lin1.bias', 'transformer.layer.0.ffn.lin1.weight', 'transformer.layer.0.ffn.lin2.bias', 'transformer.layer.0.ffn.lin2.weight', 'transformer.layer.0.output_layer_norm.bias', 'transformer.layer.0.output_layer_norm.weight', 'transformer.layer.0.sa_layer_norm.bias', 'transformer.layer.0.sa_layer_norm.weight', 'transformer.layer.1.attention.k_lin.bias', 'transformer.layer.1.attention.k_lin.weight', 'transformer.layer.1.attention.out_lin.bias', 'transformer.layer.1.attention.out_lin.weight', 'transformer.layer.1.attention.q_lin.bias', 'transformer.layer.1.attention.q_lin.weight', 'transformer.layer.1.attention.v_lin.bias', 'transformer.layer.1.attention.v_lin.weight', 'transformer.layer.1.ffn.lin1.bias', 'transformer.layer.1.ffn.lin1.weight', 'transformer.layer.1.ffn.lin2.bias', 'transformer.layer.1.ffn.lin2.weight', 'transformer.layer.1.output_layer_norm.bias', 'transformer.layer.1.output_layer_norm.weight', 'transformer.layer.1.sa_layer_norm.bias', 'transformer.layer.1.sa_layer_norm.weight', 'transformer.layer.10.attention.k_lin.bias', 'transformer.layer.10.attention.k_lin.weight', 'transformer.layer.10.attention.out_lin.bias', 'transformer.layer.10.attention.out_lin.weight', 'transformer.layer.10.attention.q_lin.bias', 'transformer.layer.10.attention.q_lin.weight', 'transformer.layer.10.attention.v_lin.bias', 'transformer.layer.10.attention.v_lin.weight', 'transformer.layer.10.ffn.lin1.bias', 'transformer.layer.10.ffn.lin1.weight', 'transformer.layer.10.ffn.lin2.bias', 'transformer.layer.10.ffn.lin2.weight', 'transformer.layer.10.output_layer_norm.bias', 'transformer.layer.10.output_layer_norm.weight', 'transformer.layer.10.sa_layer_norm.bias', 'transformer.layer.10.sa_layer_norm.weight', 'transformer.layer.11.attention.k_lin.bias', 'transformer.layer.11.attention.k_lin.weight', 'transformer.layer.11.attention.out_lin.bias', 'transformer.layer.11.attention.out_lin.weight', 'transformer.layer.11.attention.q_lin.bias', 'transformer.layer.11.attention.q_lin.weight', 'transformer.layer.11.attention.v_lin.bias', 'transformer.layer.11.attention.v_lin.weight', 'transformer.layer.11.ffn.lin1.bias', 'transformer.layer.11.ffn.lin1.weight', 'transformer.layer.11.ffn.lin2.bias', 'transformer.layer.11.ffn.lin2.weight', 'transformer.layer.11.output_layer_norm.bias', 'transformer.layer.11.output_layer_norm.weight', 'transformer.layer.11.sa_layer_norm.bias', 'transformer.layer.11.sa_layer_norm.weight', 'transformer.layer.2.attention.k_lin.bias', 'transformer.layer.2.attention.k_lin.weight', 'transformer.layer.2.attention.out_lin.bias', 'transformer.layer.2.attention.out_lin.weight', 'transformer.layer.2.attention.q_lin.bias', 'transformer.layer.2.attention.q_lin.weight', 'transformer.layer.2.attention.v_lin.bias', 'transformer.layer.2.attention.v_lin.weight', 'transformer.layer.2.ffn.lin1.bias', 'transformer.layer.2.ffn.lin1.weight', 'transformer.layer.2.ffn.lin2.bias', 'transformer.layer.2.ffn.lin2.weight', 'transformer.layer.2.output_layer_norm.bias', 'transformer.layer.2.output_layer_norm.weight', 'transformer.layer.2.sa_layer_norm.bias', 'transformer.layer.2.sa_layer_norm.weight', 'transformer.layer.3.attention.k_lin.bias', 'transformer.layer.3.attention.k_lin.weight', 'transformer.layer.3.attention.out_lin.bias', 'transformer.layer.3.attention.out_lin.weight', 'transformer.layer.3.attention.q_lin.bias', 'transformer.layer.3.attention.q_lin.weight', 'transformer.layer.3.attention.v_lin.bias', 'transformer.layer.3.attention.v_lin.weight', 'transformer.layer.3.ffn.lin1.bias', 'transformer.layer.3.ffn.lin1.weight', 'transformer.layer.3.ffn.lin2.bias', 'transformer.layer.3.ffn.lin2.weight', 'transformer.layer.3.output_layer_norm.bias', 'transformer.layer.3.output_layer_norm.weight', 'transformer.layer.3.sa_layer_norm.bias', 'transformer.layer.3.sa_layer_norm.weight', 'transformer.layer.4.attention.k_lin.bias', 'transformer.layer.4.attention.k_lin.weight', 'transformer.layer.4.attention.out_lin.bias', 'transformer.layer.4.attention.out_lin.weight', 'transformer.layer.4.attention.q_lin.bias', 'transformer.layer.4.attention.q_lin.weight', 'transformer.layer.4.attention.v_lin.bias', 'transformer.layer.4.attention.v_lin.weight', 'transformer.layer.4.ffn.lin1.bias', 'transformer.layer.4.ffn.lin1.weight', 'transformer.layer.4.ffn.lin2.bias', 'transformer.layer.4.ffn.lin2.weight', 'transformer.layer.4.output_layer_norm.bias', 'transformer.layer.4.output_layer_norm.weight', 'transformer.layer.4.sa_layer_norm.bias', 'transformer.layer.4.sa_layer_norm.weight', 'transformer.layer.5.attention.k_lin.bias', 'transformer.layer.5.attention.k_lin.weight', 'transformer.layer.5.attention.out_lin.bias', 'transformer.layer.5.attention.out_lin.weight', 'transformer.layer.5.attention.q_lin.bias', 'transformer.layer.5.attention.q_lin.weight', 'transformer.layer.5.attention.v_lin.bias', 'transformer.layer.5.attention.v_lin.weight', 'transformer.layer.5.ffn.lin1.bias', 'transformer.layer.5.ffn.lin1.weight', 'transformer.layer.5.ffn.lin2.bias', 'transformer.layer.5.ffn.lin2.weight', 'transformer.layer.5.output_layer_norm.bias', 'transformer.layer.5.output_layer_norm.weight', 'transformer.layer.5.sa_layer_norm.bias', 'transformer.layer.5.sa_layer_norm.weight', 'transformer.layer.6.attention.k_lin.bias', 'transformer.layer.6.attention.k_lin.weight', 'transformer.layer.6.attention.out_lin.bias', 'transformer.layer.6.attention.out_lin.weight', 'transformer.layer.6.attention.q_lin.bias', 'transformer.layer.6.attention.q_lin.weight', 'transformer.layer.6.attention.v_lin.bias', 'transformer.layer.6.attention.v_lin.weight', 'transformer.layer.6.ffn.lin1.bias', 'transformer.layer.6.ffn.lin1.weight', 'transformer.layer.6.ffn.lin2.bias', 'transformer.layer.6.ffn.lin2.weight', 'transformer.layer.6.output_layer_norm.bias', 'transformer.layer.6.output_layer_norm.weight', 'transformer.layer.6.sa_layer_norm.bias', 'transformer.layer.6.sa_layer_norm.weight', 'transformer.layer.7.attention.k_lin.bias', 'transformer.layer.7.attention.k_lin.weight', 'transformer.layer.7.attention.out_lin.bias', 'transformer.layer.7.attention.out_lin.weight', 'transformer.layer.7.attention.q_lin.bias', 'transformer.layer.7.attention.q_lin.weight', 'transformer.layer.7.attention.v_lin.bias', 'transformer.layer.7.attention.v_lin.weight', 'transformer.layer.7.ffn.lin1.bias', 'transformer.layer.7.ffn.lin1.weight', 'transformer.layer.7.ffn.lin2.bias', 'transformer.layer.7.ffn.lin2.weight', 'transformer.layer.7.output_layer_norm.bias', 'transformer.layer.7.output_layer_norm.weight', 'transformer.layer.7.sa_layer_norm.bias', 'transformer.layer.7.sa_layer_norm.weight', 'transformer.layer.8.attention.k_lin.bias', 'transformer.layer.8.attention.k_lin.weight', 'transformer.layer.8.attention.out_lin.bias', 'transformer.layer.8.attention.out_lin.weight', 'transformer.layer.8.attention.q_lin.bias', 'transformer.layer.8.attention.q_lin.weight', 'transformer.layer.8.attention.v_lin.bias', 'transformer.layer.8.attention.v_lin.weight', 'transformer.layer.8.ffn.lin1.bias', 'transformer.layer.8.ffn.lin1.weight', 'transformer.layer.8.ffn.lin2.bias', 'transformer.layer.8.ffn.lin2.weight', 'transformer.layer.8.output_layer_norm.bias', 'transformer.layer.8.output_layer_norm.weight', 'transformer.layer.8.sa_layer_norm.bias', 'transformer.layer.8.sa_layer_norm.weight', 'transformer.layer.9.attention.k_lin.bias', 'transformer.layer.9.attention.k_lin.weight', 'transformer.layer.9.attention.out_lin.bias', 'transformer.layer.9.attention.out_lin.weight', 'transformer.layer.9.attention.q_lin.bias', 'transformer.layer.9.attention.q_lin.weight', 'transformer.layer.9.attention.v_lin.bias', 'transformer.layer.9.attention.v_lin.weight', 'transformer.layer.9.ffn.lin1.bias', 'transformer.layer.9.ffn.lin1.weight', 'transformer.layer.9.ffn.lin2.bias', 'transformer.layer.9.ffn.lin2.weight', 'transformer.layer.9.output_layer_norm.bias', 'transformer.layer.9.output_layer_norm.weight', 'transformer.layer.9.sa_layer_norm.bias', 'transformer.layer.9.sa_layer_norm.weight']\n",
            "You should probably TRAIN this model on a down-stream task to be able to use it for predictions and inference.\n"
          ]
        },
        {
          "output_type": "stream",
          "name": "stdout",
          "text": [
            "---- Indexing ----\n",
            "Start indexing!\n"
          ]
        },
        {
          "output_type": "stream",
          "name": "stderr",
          "text": [
            "100%|██████████| 313/313 [00:24<00:00, 12.59it/s]\n"
          ]
        },
        {
          "output_type": "stream",
          "name": "stdout",
          "text": [
            "\n",
            "Done indexing!\n",
            "\n",
            "---- Search ----\n",
            "Questions similar to: how can i invest in stock market in india?\n",
            "0 Question: How can I get up early in the morning? with score 0.8668302297592163\n",
            "1 Question: How can Seychelles help India in curbing black money? with score 0.8663433194160461\n",
            "2 Question: How can I become a freelance writer in India? with score 0.8643911480903625\n",
            "3 Question: How do I use Spotify in India? with score 0.8607898950576782\n",
            "4 Question: Where can I buy meldonium in Canada? with score 0.8605788946151733\n",
            "5 Question: How can i learn web programming in one month? with score 0.8602752685546875\n",
            "6 Question: How can I find an IT job in Japan? with score 0.859729528427124\n",
            "7 Question: How can I wake up early in the morning? with score 0.8562947511672974\n",
            "8 Question: How can I find best online shopping stores in india? with score 0.8555888533592224\n",
            "9 Question: Where can I get cigarettes post midnight in mumbai? with score 0.8539314270019531\n",
            "\n",
            "---- Evaluation ----\n"
          ]
        },
        {
          "output_type": "stream",
          "name": "stderr",
          "text": [
            "Evaluating random samples: 100%|██████████| 1000/1000 [00:21<00:00, 47.25it/s]"
          ]
        },
        {
          "output_type": "stream",
          "name": "stdout",
          "text": [
            "\n",
            "Recall@10:\t\t50.00%\n",
            "Mean Reciprocal Rank:\t0.35\n"
          ]
        },
        {
          "output_type": "stream",
          "name": "stderr",
          "text": [
            "\n"
          ]
        }
      ],
      "source": [
        "class BertVectorizer:\n",
        "  def __init__(self):\n",
        "    # using bert-base-uncased, which has more layers and parameters than DistilBERT to achieve the expected recall\n",
        "    self.tokenizer = DistilBertTokenizer.from_pretrained('bert-base-uncased')\n",
        "    self.model = DistilBertModel.from_pretrained('bert-base-uncased')\n",
        "\n",
        "  def vectorize(self, sentences):\n",
        "    \"\"\"Return sentence vectors for the batch of sentences.\n",
        "\n",
        "    1. Tokenize batch of sentences using `self.tokenizer`\n",
        "    2. Pipe the inputs through the BERT model to create the output logits\n",
        "    3. Normalize the batch output\n",
        "    \"\"\"\n",
        "\n",
        "    # Tokenize batch of sentences using `self.tokenizer`\n",
        "    inputs = self.tokenizer(sentences, return_tensors='pt', padding=True, truncation=True)\n",
        "\n",
        "    #Pipe the inputs through the BERT model to create the output logits\n",
        "    outputs = self.model(**inputs)\n",
        "\n",
        "    model_output = outputs.last_hidden_state\n",
        "\n",
        "    #Normalize the batch output\n",
        "    return F.normalize(torch.mean(model_output, dim=1), dim=1).detach().cpu().numpy()\n",
        "\n",
        "\n",
        "bertIndex = FaissIndexer(sample_dataset,\n",
        "                  question_map,\n",
        "                  sample_eval_dataset,\n",
        "                  batch_size=32,\n",
        "                  sentence_vector_dim=768,\n",
        "                  vectorizer=BertVectorizer())\n",
        "\n",
        "bertIndex.train_and_evaluate(question_example = \"how can i invest in stock market in india?\")"
      ]
    },
    {
      "cell_type": "markdown",
      "metadata": {
        "id": "UdO1h0CrykPv"
      },
      "source": [
        "### Model 3: Sentence Transformer\n",
        "##### <font color='red'>Expected recall@10: ~92%, MRR: ~0.34</font>\n",
        "\n",
        "Compute the sentence embeddings using the Sentence BERT model and complete the `vectorize` function. Feel free to look up documentation on https://www.sbert.net/.\n",
        "\n",
        "Implementation:\n",
        "\n",
        "1. Pipe the input sentences through the Sentence BERT model to create the output logits\n",
        "2. Normalize the batch output\n"
      ]
    },
    {
      "cell_type": "code",
      "execution_count": 19,
      "metadata": {
        "id": "1x2GE66hykPv",
        "colab": {
          "base_uri": "https://localhost:8080/"
        },
        "outputId": "cd88b4d5-9b42-4655-84da-a5d0ce0a43bd"
      },
      "outputs": [
        {
          "output_type": "stream",
          "name": "stdout",
          "text": [
            "---- Indexing ----\n",
            "Start indexing!\n"
          ]
        },
        {
          "output_type": "stream",
          "name": "stderr",
          "text": [
            "100%|██████████| 10/10 [00:06<00:00,  1.46it/s]\n"
          ]
        },
        {
          "output_type": "stream",
          "name": "stdout",
          "text": [
            "\n",
            "Done indexing!\n",
            "\n",
            "---- Search ----\n",
            "Questions similar to: how can i invest in stock market in india?\n",
            "0 Question: What is the step by step guide to invest in share market in india? with score 0.7331767678260803\n",
            "1 Question: I am 17 and I want to invest money in stock market where should I start? with score 0.6957336664199829\n",
            "2 Question: What are the ways to learn about stock market? with score 0.6243615746498108\n",
            "3 Question: How do I start investing in shares or stocks? What is the minimum requirement? with score 0.6239824891090393\n",
            "4 Question: What is the best way to learn about stock market? with score 0.6222878098487854\n",
            "5 Question: What is the step by step guide to invest in share market? with score 0.6042820811271667\n",
            "6 Question: What is the best way to learn about investing in the stock market and what stocks to buy? with score 0.6032655835151672\n",
            "7 Question: What is the best way to learn about stock markets? with score 0.584670901298523\n",
            "8 Question: How do I buy stocks? with score 0.5778071880340576\n",
            "9 Question: What are mutual funds and which is the best one in India in which to invest? with score 0.5576667785644531\n",
            "\n",
            "---- Evaluation ----\n"
          ]
        },
        {
          "output_type": "stream",
          "name": "stderr",
          "text": [
            "Evaluating random samples: 100%|██████████| 1000/1000 [00:13<00:00, 72.23it/s]"
          ]
        },
        {
          "output_type": "stream",
          "name": "stdout",
          "text": [
            "\n",
            "Recall@10:\t\t92.50%\n",
            "Mean Reciprocal Rank:\t0.37\n"
          ]
        },
        {
          "output_type": "stream",
          "name": "stderr",
          "text": [
            "\n"
          ]
        }
      ],
      "source": [
        "class SentenceBertVectorizer:\n",
        "  def __init__(self):\n",
        "    self.model = SentenceTransformer('paraphrase-MiniLM-L6-v2')\n",
        "\n",
        "  def vectorize(self, sentences):\n",
        "    \"\"\"Return sentence vectors for the batch of sentences.\n",
        "\n",
        "    1. Pipe the input sentences through the Sentence BERT model to create the output logits\n",
        "    2. Normalize the batch output\n",
        "    \"\"\"\n",
        "\n",
        "    sentence_vectors = self.model.encode(sentences, batch_size=32, show_progress_bar=False)\n",
        "\n",
        "    return sentence_vectors / np.expand_dims(np.linalg.norm(sentence_vectors, axis=1), axis=1)\n",
        "\n",
        "\n",
        "SBertIndex = FaissIndexer(sample_dataset,\n",
        "                  question_map,\n",
        "                  sample_eval_dataset,\n",
        "                  batch_size=1024,\n",
        "                  sentence_vector_dim=384,\n",
        "                  vectorizer=SentenceBertVectorizer())\n",
        "\n",
        "SBertIndex.train_and_evaluate(question_example = \"how can i invest in stock market in india?\")"
      ]
    },
    {
      "cell_type": "markdown",
      "metadata": {
        "id": "ZuDzyh7QykPw"
      },
      "source": [
        "# OPTIONAL\n",
        "**This section requires a paid account with OpenAI.  It is completely optional and can be skipped.**\n",
        "### Model 4: OpenAI Text Embeddings\n",
        "##### <font color='red'>Expected recall@10: ~92%, MRR: ~0.32</font>\n",
        "\n",
        "Make sure create an OpenAI account and make an API key.\n",
        "Compute the sentence embeddings using the OpenAI API and complete the `vectorize` function. Feel free to look up documentation on https://platform.openai.com/docs/api-reference/embeddings.\n",
        "\n",
        "Implementation:\n",
        "\n",
        "1. Pipe the input sentences through the OpenAI API.\n"
      ]
    },
    {
      "cell_type": "code",
      "source": [
        "!pip install openai"
      ],
      "metadata": {
        "id": "3vqAV6eRHC-O",
        "outputId": "e72877e9-7a3b-44db-d0bd-0ca505f97fbb",
        "colab": {
          "base_uri": "https://localhost:8080/"
        }
      },
      "execution_count": null,
      "outputs": [
        {
          "output_type": "stream",
          "name": "stdout",
          "text": [
            "Collecting openai\n",
            "  Downloading openai-1.40.1-py3-none-any.whl.metadata (22 kB)\n",
            "Requirement already satisfied: anyio<5,>=3.5.0 in /usr/local/lib/python3.10/dist-packages (from openai) (3.7.1)\n",
            "Requirement already satisfied: distro<2,>=1.7.0 in /usr/lib/python3/dist-packages (from openai) (1.7.0)\n",
            "Collecting httpx<1,>=0.23.0 (from openai)\n",
            "  Downloading httpx-0.27.0-py3-none-any.whl.metadata (7.2 kB)\n",
            "Collecting jiter<1,>=0.4.0 (from openai)\n",
            "  Downloading jiter-0.5.0-cp310-cp310-manylinux_2_17_x86_64.manylinux2014_x86_64.whl.metadata (3.6 kB)\n",
            "Requirement already satisfied: pydantic<3,>=1.9.0 in /usr/local/lib/python3.10/dist-packages (from openai) (2.8.2)\n",
            "Requirement already satisfied: sniffio in /usr/local/lib/python3.10/dist-packages (from openai) (1.3.1)\n",
            "Requirement already satisfied: tqdm>4 in /usr/local/lib/python3.10/dist-packages (from openai) (4.66.5)\n",
            "Requirement already satisfied: typing-extensions<5,>=4.11 in /usr/local/lib/python3.10/dist-packages (from openai) (4.12.2)\n",
            "Requirement already satisfied: idna>=2.8 in /usr/local/lib/python3.10/dist-packages (from anyio<5,>=3.5.0->openai) (3.7)\n",
            "Requirement already satisfied: exceptiongroup in /usr/local/lib/python3.10/dist-packages (from anyio<5,>=3.5.0->openai) (1.2.2)\n",
            "Requirement already satisfied: certifi in /usr/local/lib/python3.10/dist-packages (from httpx<1,>=0.23.0->openai) (2024.7.4)\n",
            "Collecting httpcore==1.* (from httpx<1,>=0.23.0->openai)\n",
            "  Downloading httpcore-1.0.5-py3-none-any.whl.metadata (20 kB)\n",
            "Collecting h11<0.15,>=0.13 (from httpcore==1.*->httpx<1,>=0.23.0->openai)\n",
            "  Downloading h11-0.14.0-py3-none-any.whl.metadata (8.2 kB)\n",
            "Requirement already satisfied: annotated-types>=0.4.0 in /usr/local/lib/python3.10/dist-packages (from pydantic<3,>=1.9.0->openai) (0.7.0)\n",
            "Requirement already satisfied: pydantic-core==2.20.1 in /usr/local/lib/python3.10/dist-packages (from pydantic<3,>=1.9.0->openai) (2.20.1)\n",
            "Downloading openai-1.40.1-py3-none-any.whl (360 kB)\n",
            "\u001b[2K   \u001b[90m━━━━━━━━━━━━━━━━━━━━━━━━━━━━━━━━━━━━━━━━\u001b[0m \u001b[32m360.4/360.4 kB\u001b[0m \u001b[31m9.7 MB/s\u001b[0m eta \u001b[36m0:00:00\u001b[0m\n",
            "\u001b[?25hDownloading httpx-0.27.0-py3-none-any.whl (75 kB)\n",
            "\u001b[2K   \u001b[90m━━━━━━━━━━━━━━━━━━━━━━━━━━━━━━━━━━━━━━━━\u001b[0m \u001b[32m75.6/75.6 kB\u001b[0m \u001b[31m3.9 MB/s\u001b[0m eta \u001b[36m0:00:00\u001b[0m\n",
            "\u001b[?25hDownloading httpcore-1.0.5-py3-none-any.whl (77 kB)\n",
            "\u001b[2K   \u001b[90m━━━━━━━━━━━━━━━━━━━━━━━━━━━━━━━━━━━━━━━━\u001b[0m \u001b[32m77.9/77.9 kB\u001b[0m \u001b[31m4.3 MB/s\u001b[0m eta \u001b[36m0:00:00\u001b[0m\n",
            "\u001b[?25hDownloading jiter-0.5.0-cp310-cp310-manylinux_2_17_x86_64.manylinux2014_x86_64.whl (318 kB)\n",
            "\u001b[2K   \u001b[90m━━━━━━━━━━━━━━━━━━━━━━━━━━━━━━━━━━━━━━━━\u001b[0m \u001b[32m318.9/318.9 kB\u001b[0m \u001b[31m14.2 MB/s\u001b[0m eta \u001b[36m0:00:00\u001b[0m\n",
            "\u001b[?25hDownloading h11-0.14.0-py3-none-any.whl (58 kB)\n",
            "\u001b[2K   \u001b[90m━━━━━━━━━━━━━━━━━━━━━━━━━━━━━━━━━━━━━━━━\u001b[0m \u001b[32m58.3/58.3 kB\u001b[0m \u001b[31m3.0 MB/s\u001b[0m eta \u001b[36m0:00:00\u001b[0m\n",
            "\u001b[?25hInstalling collected packages: jiter, h11, httpcore, httpx, openai\n",
            "Successfully installed h11-0.14.0 httpcore-1.0.5 httpx-0.27.0 jiter-0.5.0 openai-1.40.1\n"
          ]
        }
      ]
    },
    {
      "cell_type": "code",
      "execution_count": null,
      "metadata": {
        "id": "ZD9oFXm2ykPw"
      },
      "outputs": [],
      "source": [
        "import openai\n",
        "from google.colab import userdata\n",
        "\n",
        "# Add your OPENAI_API_KEY in the Secrets section of the colab notebook.\n",
        "client = openai.Client(api_key=userdata.get('OPENAI_API_KEY'))\n",
        "\n",
        "embeddings_model = \"text-embedding-3-small\"\n",
        "\n",
        "class OpenAIVectorizer:\n",
        "  def vectorize(self, sentences):\n",
        "    \"\"\"Return sentence vectors for the batch of sentences.\n",
        "\n",
        "    See the OpenAI API documentation for more details: https://platform.openai.com/docs/guides/embeddings/use-cases\n",
        "    \"\"\"\n",
        "\n",
        "    ### TO BE COMPLETED (START) ####\n",
        "    response = client.embeddings.create(...)\n",
        "\n",
        "    sentence_vectors = [data.embedding for data in response.data]\n",
        "    ### TO BE COMPLETED (FINISH) ###\n",
        "\n",
        "    # Convert from float64 to float32 to prevent bug:\n",
        "    # https://github.com/facebookresearch/faiss/issues/461\n",
        "\n",
        "    return np.float32(np.array(sentence_vectors) / np.expand_dims(np.linalg.norm(sentence_vectors, axis=1), axis=1))\n",
        "\n",
        "openaiIndex = FaissIndexer(sample_dataset,\n",
        "                  question_map,\n",
        "                  sample_eval_dataset,\n",
        "                  batch_size=2048,\n",
        "                  sentence_vector_dim=1536, # This is the length of the OpenAI embeddings model \"text-embedding-3-small\"\n",
        "                  vectorizer=OpenAIVectorizer())\n",
        "\n",
        "openaiIndex.train_and_evaluate(question_example = \"how can i invest in stock market in india?\",\n",
        "                               eval_sample_size = 100)"
      ]
    },
    {
      "cell_type": "markdown",
      "metadata": {
        "id": "xCsWvtLcykPx"
      },
      "source": [
        "🎉 CONGRATULATIONS on finishing the assignment!!! We built a real model with an actual datasets for a problem that is used every time a new Quora question gets created!!\n",
        "\n",
        "As for why did SentenceBERT & Cohere perform so well, we'll cover that in Siamese networks in next week!"
      ]
    },
    {
      "cell_type": "markdown",
      "metadata": {
        "id": "gdKGugL0ykPx"
      },
      "source": [
        "# Extensions\n",
        "\n",
        "Now that you've worked through the project there is a lot more for us to try:\n",
        "\n",
        "- Try out `SentenceBert` and `SpacyVectors` on the entire dataset rather the sample and see what you get?\n",
        "- Try different transformer models from hugging face"
      ]
    },
    {
      "cell_type": "markdown",
      "metadata": {
        "id": "1DpA4DaiykPx"
      },
      "source": []
    }
  ],
  "metadata": {
    "kernelspec": {
      "display_name": "Python 3",
      "name": "python3"
    },
    "language_info": {
      "codemirror_mode": {
        "name": "ipython",
        "version": 3
      },
      "file_extension": ".py",
      "mimetype": "text/x-python",
      "name": "python",
      "nbconvert_exporter": "python",
      "pygments_lexer": "ipython3",
      "version": "3.11.6"
    },
    "colab": {
      "provenance": [],
      "gpuType": "T4",
      "include_colab_link": true
    },
    "accelerator": "GPU",
    "widgets": {
      "application/vnd.jupyter.widget-state+json": {
        "e11ae8637a71499b904bf405c853b11a": {
          "model_module": "@jupyter-widgets/controls",
          "model_name": "HBoxModel",
          "model_module_version": "1.5.0",
          "state": {
            "_dom_classes": [],
            "_model_module": "@jupyter-widgets/controls",
            "_model_module_version": "1.5.0",
            "_model_name": "HBoxModel",
            "_view_count": null,
            "_view_module": "@jupyter-widgets/controls",
            "_view_module_version": "1.5.0",
            "_view_name": "HBoxView",
            "box_style": "",
            "children": [
              "IPY_MODEL_d57a1a184b9845949fd46101a7602ec7",
              "IPY_MODEL_9db13a0839eb4c4fb203b62c114a4138",
              "IPY_MODEL_2bc6df07b0ed4c5680176c4726abc585"
            ],
            "layout": "IPY_MODEL_c7a318cf54bd41f9a2b4ce753949458d"
          }
        },
        "d57a1a184b9845949fd46101a7602ec7": {
          "model_module": "@jupyter-widgets/controls",
          "model_name": "HTMLModel",
          "model_module_version": "1.5.0",
          "state": {
            "_dom_classes": [],
            "_model_module": "@jupyter-widgets/controls",
            "_model_module_version": "1.5.0",
            "_model_name": "HTMLModel",
            "_view_count": null,
            "_view_module": "@jupyter-widgets/controls",
            "_view_module_version": "1.5.0",
            "_view_name": "HTMLView",
            "description": "",
            "description_tooltip": null,
            "layout": "IPY_MODEL_d4080243a8fa45ff84f2017b7fd7981b",
            "placeholder": "​",
            "style": "IPY_MODEL_2fce111f91bd43bbb6b95b1dbf89bc43",
            "value": "tokenizer_config.json: 100%"
          }
        },
        "9db13a0839eb4c4fb203b62c114a4138": {
          "model_module": "@jupyter-widgets/controls",
          "model_name": "FloatProgressModel",
          "model_module_version": "1.5.0",
          "state": {
            "_dom_classes": [],
            "_model_module": "@jupyter-widgets/controls",
            "_model_module_version": "1.5.0",
            "_model_name": "FloatProgressModel",
            "_view_count": null,
            "_view_module": "@jupyter-widgets/controls",
            "_view_module_version": "1.5.0",
            "_view_name": "ProgressView",
            "bar_style": "success",
            "description": "",
            "description_tooltip": null,
            "layout": "IPY_MODEL_7407831891ac4bdc98b480b8dd2987d4",
            "max": 48,
            "min": 0,
            "orientation": "horizontal",
            "style": "IPY_MODEL_04ac0053e3d842b196baaf156ef5d14e",
            "value": 48
          }
        },
        "2bc6df07b0ed4c5680176c4726abc585": {
          "model_module": "@jupyter-widgets/controls",
          "model_name": "HTMLModel",
          "model_module_version": "1.5.0",
          "state": {
            "_dom_classes": [],
            "_model_module": "@jupyter-widgets/controls",
            "_model_module_version": "1.5.0",
            "_model_name": "HTMLModel",
            "_view_count": null,
            "_view_module": "@jupyter-widgets/controls",
            "_view_module_version": "1.5.0",
            "_view_name": "HTMLView",
            "description": "",
            "description_tooltip": null,
            "layout": "IPY_MODEL_4c69dff3da404904967e7b808ed16108",
            "placeholder": "​",
            "style": "IPY_MODEL_297cfa8bd3e34ffe904c1034faf3dde0",
            "value": " 48.0/48.0 [00:00&lt;00:00, 1.31kB/s]"
          }
        },
        "c7a318cf54bd41f9a2b4ce753949458d": {
          "model_module": "@jupyter-widgets/base",
          "model_name": "LayoutModel",
          "model_module_version": "1.2.0",
          "state": {
            "_model_module": "@jupyter-widgets/base",
            "_model_module_version": "1.2.0",
            "_model_name": "LayoutModel",
            "_view_count": null,
            "_view_module": "@jupyter-widgets/base",
            "_view_module_version": "1.2.0",
            "_view_name": "LayoutView",
            "align_content": null,
            "align_items": null,
            "align_self": null,
            "border": null,
            "bottom": null,
            "display": null,
            "flex": null,
            "flex_flow": null,
            "grid_area": null,
            "grid_auto_columns": null,
            "grid_auto_flow": null,
            "grid_auto_rows": null,
            "grid_column": null,
            "grid_gap": null,
            "grid_row": null,
            "grid_template_areas": null,
            "grid_template_columns": null,
            "grid_template_rows": null,
            "height": null,
            "justify_content": null,
            "justify_items": null,
            "left": null,
            "margin": null,
            "max_height": null,
            "max_width": null,
            "min_height": null,
            "min_width": null,
            "object_fit": null,
            "object_position": null,
            "order": null,
            "overflow": null,
            "overflow_x": null,
            "overflow_y": null,
            "padding": null,
            "right": null,
            "top": null,
            "visibility": null,
            "width": null
          }
        },
        "d4080243a8fa45ff84f2017b7fd7981b": {
          "model_module": "@jupyter-widgets/base",
          "model_name": "LayoutModel",
          "model_module_version": "1.2.0",
          "state": {
            "_model_module": "@jupyter-widgets/base",
            "_model_module_version": "1.2.0",
            "_model_name": "LayoutModel",
            "_view_count": null,
            "_view_module": "@jupyter-widgets/base",
            "_view_module_version": "1.2.0",
            "_view_name": "LayoutView",
            "align_content": null,
            "align_items": null,
            "align_self": null,
            "border": null,
            "bottom": null,
            "display": null,
            "flex": null,
            "flex_flow": null,
            "grid_area": null,
            "grid_auto_columns": null,
            "grid_auto_flow": null,
            "grid_auto_rows": null,
            "grid_column": null,
            "grid_gap": null,
            "grid_row": null,
            "grid_template_areas": null,
            "grid_template_columns": null,
            "grid_template_rows": null,
            "height": null,
            "justify_content": null,
            "justify_items": null,
            "left": null,
            "margin": null,
            "max_height": null,
            "max_width": null,
            "min_height": null,
            "min_width": null,
            "object_fit": null,
            "object_position": null,
            "order": null,
            "overflow": null,
            "overflow_x": null,
            "overflow_y": null,
            "padding": null,
            "right": null,
            "top": null,
            "visibility": null,
            "width": null
          }
        },
        "2fce111f91bd43bbb6b95b1dbf89bc43": {
          "model_module": "@jupyter-widgets/controls",
          "model_name": "DescriptionStyleModel",
          "model_module_version": "1.5.0",
          "state": {
            "_model_module": "@jupyter-widgets/controls",
            "_model_module_version": "1.5.0",
            "_model_name": "DescriptionStyleModel",
            "_view_count": null,
            "_view_module": "@jupyter-widgets/base",
            "_view_module_version": "1.2.0",
            "_view_name": "StyleView",
            "description_width": ""
          }
        },
        "7407831891ac4bdc98b480b8dd2987d4": {
          "model_module": "@jupyter-widgets/base",
          "model_name": "LayoutModel",
          "model_module_version": "1.2.0",
          "state": {
            "_model_module": "@jupyter-widgets/base",
            "_model_module_version": "1.2.0",
            "_model_name": "LayoutModel",
            "_view_count": null,
            "_view_module": "@jupyter-widgets/base",
            "_view_module_version": "1.2.0",
            "_view_name": "LayoutView",
            "align_content": null,
            "align_items": null,
            "align_self": null,
            "border": null,
            "bottom": null,
            "display": null,
            "flex": null,
            "flex_flow": null,
            "grid_area": null,
            "grid_auto_columns": null,
            "grid_auto_flow": null,
            "grid_auto_rows": null,
            "grid_column": null,
            "grid_gap": null,
            "grid_row": null,
            "grid_template_areas": null,
            "grid_template_columns": null,
            "grid_template_rows": null,
            "height": null,
            "justify_content": null,
            "justify_items": null,
            "left": null,
            "margin": null,
            "max_height": null,
            "max_width": null,
            "min_height": null,
            "min_width": null,
            "object_fit": null,
            "object_position": null,
            "order": null,
            "overflow": null,
            "overflow_x": null,
            "overflow_y": null,
            "padding": null,
            "right": null,
            "top": null,
            "visibility": null,
            "width": null
          }
        },
        "04ac0053e3d842b196baaf156ef5d14e": {
          "model_module": "@jupyter-widgets/controls",
          "model_name": "ProgressStyleModel",
          "model_module_version": "1.5.0",
          "state": {
            "_model_module": "@jupyter-widgets/controls",
            "_model_module_version": "1.5.0",
            "_model_name": "ProgressStyleModel",
            "_view_count": null,
            "_view_module": "@jupyter-widgets/base",
            "_view_module_version": "1.2.0",
            "_view_name": "StyleView",
            "bar_color": null,
            "description_width": ""
          }
        },
        "4c69dff3da404904967e7b808ed16108": {
          "model_module": "@jupyter-widgets/base",
          "model_name": "LayoutModel",
          "model_module_version": "1.2.0",
          "state": {
            "_model_module": "@jupyter-widgets/base",
            "_model_module_version": "1.2.0",
            "_model_name": "LayoutModel",
            "_view_count": null,
            "_view_module": "@jupyter-widgets/base",
            "_view_module_version": "1.2.0",
            "_view_name": "LayoutView",
            "align_content": null,
            "align_items": null,
            "align_self": null,
            "border": null,
            "bottom": null,
            "display": null,
            "flex": null,
            "flex_flow": null,
            "grid_area": null,
            "grid_auto_columns": null,
            "grid_auto_flow": null,
            "grid_auto_rows": null,
            "grid_column": null,
            "grid_gap": null,
            "grid_row": null,
            "grid_template_areas": null,
            "grid_template_columns": null,
            "grid_template_rows": null,
            "height": null,
            "justify_content": null,
            "justify_items": null,
            "left": null,
            "margin": null,
            "max_height": null,
            "max_width": null,
            "min_height": null,
            "min_width": null,
            "object_fit": null,
            "object_position": null,
            "order": null,
            "overflow": null,
            "overflow_x": null,
            "overflow_y": null,
            "padding": null,
            "right": null,
            "top": null,
            "visibility": null,
            "width": null
          }
        },
        "297cfa8bd3e34ffe904c1034faf3dde0": {
          "model_module": "@jupyter-widgets/controls",
          "model_name": "DescriptionStyleModel",
          "model_module_version": "1.5.0",
          "state": {
            "_model_module": "@jupyter-widgets/controls",
            "_model_module_version": "1.5.0",
            "_model_name": "DescriptionStyleModel",
            "_view_count": null,
            "_view_module": "@jupyter-widgets/base",
            "_view_module_version": "1.2.0",
            "_view_name": "StyleView",
            "description_width": ""
          }
        },
        "79c45e2b373342b0b79cfcfa38a82ee8": {
          "model_module": "@jupyter-widgets/controls",
          "model_name": "HBoxModel",
          "model_module_version": "1.5.0",
          "state": {
            "_dom_classes": [],
            "_model_module": "@jupyter-widgets/controls",
            "_model_module_version": "1.5.0",
            "_model_name": "HBoxModel",
            "_view_count": null,
            "_view_module": "@jupyter-widgets/controls",
            "_view_module_version": "1.5.0",
            "_view_name": "HBoxView",
            "box_style": "",
            "children": [
              "IPY_MODEL_7d715bbe5e6c4adcadc6790dbe52a662",
              "IPY_MODEL_5bc0e364c33e4f2fa6766b19fd8b7aa7",
              "IPY_MODEL_04f35b28382a4f32991f64f35883064c"
            ],
            "layout": "IPY_MODEL_5846c59718914fa0a57b63228600c011"
          }
        },
        "7d715bbe5e6c4adcadc6790dbe52a662": {
          "model_module": "@jupyter-widgets/controls",
          "model_name": "HTMLModel",
          "model_module_version": "1.5.0",
          "state": {
            "_dom_classes": [],
            "_model_module": "@jupyter-widgets/controls",
            "_model_module_version": "1.5.0",
            "_model_name": "HTMLModel",
            "_view_count": null,
            "_view_module": "@jupyter-widgets/controls",
            "_view_module_version": "1.5.0",
            "_view_name": "HTMLView",
            "description": "",
            "description_tooltip": null,
            "layout": "IPY_MODEL_4f3635b32bc448c486045beb1d2e3409",
            "placeholder": "​",
            "style": "IPY_MODEL_3a0f69d44c1749ca9c36da26251aff77",
            "value": "vocab.txt: 100%"
          }
        },
        "5bc0e364c33e4f2fa6766b19fd8b7aa7": {
          "model_module": "@jupyter-widgets/controls",
          "model_name": "FloatProgressModel",
          "model_module_version": "1.5.0",
          "state": {
            "_dom_classes": [],
            "_model_module": "@jupyter-widgets/controls",
            "_model_module_version": "1.5.0",
            "_model_name": "FloatProgressModel",
            "_view_count": null,
            "_view_module": "@jupyter-widgets/controls",
            "_view_module_version": "1.5.0",
            "_view_name": "ProgressView",
            "bar_style": "success",
            "description": "",
            "description_tooltip": null,
            "layout": "IPY_MODEL_132fe732b6f7419990fc4657a041b7c3",
            "max": 231508,
            "min": 0,
            "orientation": "horizontal",
            "style": "IPY_MODEL_bab16aa09d8d4c6284d80f9de65d8be9",
            "value": 231508
          }
        },
        "04f35b28382a4f32991f64f35883064c": {
          "model_module": "@jupyter-widgets/controls",
          "model_name": "HTMLModel",
          "model_module_version": "1.5.0",
          "state": {
            "_dom_classes": [],
            "_model_module": "@jupyter-widgets/controls",
            "_model_module_version": "1.5.0",
            "_model_name": "HTMLModel",
            "_view_count": null,
            "_view_module": "@jupyter-widgets/controls",
            "_view_module_version": "1.5.0",
            "_view_name": "HTMLView",
            "description": "",
            "description_tooltip": null,
            "layout": "IPY_MODEL_3d84e6de30ca4a8197ffa6e7b4b1efd5",
            "placeholder": "​",
            "style": "IPY_MODEL_e9bcea3bd3c84dd1924274547c3d504e",
            "value": " 232k/232k [00:00&lt;00:00, 3.52MB/s]"
          }
        },
        "5846c59718914fa0a57b63228600c011": {
          "model_module": "@jupyter-widgets/base",
          "model_name": "LayoutModel",
          "model_module_version": "1.2.0",
          "state": {
            "_model_module": "@jupyter-widgets/base",
            "_model_module_version": "1.2.0",
            "_model_name": "LayoutModel",
            "_view_count": null,
            "_view_module": "@jupyter-widgets/base",
            "_view_module_version": "1.2.0",
            "_view_name": "LayoutView",
            "align_content": null,
            "align_items": null,
            "align_self": null,
            "border": null,
            "bottom": null,
            "display": null,
            "flex": null,
            "flex_flow": null,
            "grid_area": null,
            "grid_auto_columns": null,
            "grid_auto_flow": null,
            "grid_auto_rows": null,
            "grid_column": null,
            "grid_gap": null,
            "grid_row": null,
            "grid_template_areas": null,
            "grid_template_columns": null,
            "grid_template_rows": null,
            "height": null,
            "justify_content": null,
            "justify_items": null,
            "left": null,
            "margin": null,
            "max_height": null,
            "max_width": null,
            "min_height": null,
            "min_width": null,
            "object_fit": null,
            "object_position": null,
            "order": null,
            "overflow": null,
            "overflow_x": null,
            "overflow_y": null,
            "padding": null,
            "right": null,
            "top": null,
            "visibility": null,
            "width": null
          }
        },
        "4f3635b32bc448c486045beb1d2e3409": {
          "model_module": "@jupyter-widgets/base",
          "model_name": "LayoutModel",
          "model_module_version": "1.2.0",
          "state": {
            "_model_module": "@jupyter-widgets/base",
            "_model_module_version": "1.2.0",
            "_model_name": "LayoutModel",
            "_view_count": null,
            "_view_module": "@jupyter-widgets/base",
            "_view_module_version": "1.2.0",
            "_view_name": "LayoutView",
            "align_content": null,
            "align_items": null,
            "align_self": null,
            "border": null,
            "bottom": null,
            "display": null,
            "flex": null,
            "flex_flow": null,
            "grid_area": null,
            "grid_auto_columns": null,
            "grid_auto_flow": null,
            "grid_auto_rows": null,
            "grid_column": null,
            "grid_gap": null,
            "grid_row": null,
            "grid_template_areas": null,
            "grid_template_columns": null,
            "grid_template_rows": null,
            "height": null,
            "justify_content": null,
            "justify_items": null,
            "left": null,
            "margin": null,
            "max_height": null,
            "max_width": null,
            "min_height": null,
            "min_width": null,
            "object_fit": null,
            "object_position": null,
            "order": null,
            "overflow": null,
            "overflow_x": null,
            "overflow_y": null,
            "padding": null,
            "right": null,
            "top": null,
            "visibility": null,
            "width": null
          }
        },
        "3a0f69d44c1749ca9c36da26251aff77": {
          "model_module": "@jupyter-widgets/controls",
          "model_name": "DescriptionStyleModel",
          "model_module_version": "1.5.0",
          "state": {
            "_model_module": "@jupyter-widgets/controls",
            "_model_module_version": "1.5.0",
            "_model_name": "DescriptionStyleModel",
            "_view_count": null,
            "_view_module": "@jupyter-widgets/base",
            "_view_module_version": "1.2.0",
            "_view_name": "StyleView",
            "description_width": ""
          }
        },
        "132fe732b6f7419990fc4657a041b7c3": {
          "model_module": "@jupyter-widgets/base",
          "model_name": "LayoutModel",
          "model_module_version": "1.2.0",
          "state": {
            "_model_module": "@jupyter-widgets/base",
            "_model_module_version": "1.2.0",
            "_model_name": "LayoutModel",
            "_view_count": null,
            "_view_module": "@jupyter-widgets/base",
            "_view_module_version": "1.2.0",
            "_view_name": "LayoutView",
            "align_content": null,
            "align_items": null,
            "align_self": null,
            "border": null,
            "bottom": null,
            "display": null,
            "flex": null,
            "flex_flow": null,
            "grid_area": null,
            "grid_auto_columns": null,
            "grid_auto_flow": null,
            "grid_auto_rows": null,
            "grid_column": null,
            "grid_gap": null,
            "grid_row": null,
            "grid_template_areas": null,
            "grid_template_columns": null,
            "grid_template_rows": null,
            "height": null,
            "justify_content": null,
            "justify_items": null,
            "left": null,
            "margin": null,
            "max_height": null,
            "max_width": null,
            "min_height": null,
            "min_width": null,
            "object_fit": null,
            "object_position": null,
            "order": null,
            "overflow": null,
            "overflow_x": null,
            "overflow_y": null,
            "padding": null,
            "right": null,
            "top": null,
            "visibility": null,
            "width": null
          }
        },
        "bab16aa09d8d4c6284d80f9de65d8be9": {
          "model_module": "@jupyter-widgets/controls",
          "model_name": "ProgressStyleModel",
          "model_module_version": "1.5.0",
          "state": {
            "_model_module": "@jupyter-widgets/controls",
            "_model_module_version": "1.5.0",
            "_model_name": "ProgressStyleModel",
            "_view_count": null,
            "_view_module": "@jupyter-widgets/base",
            "_view_module_version": "1.2.0",
            "_view_name": "StyleView",
            "bar_color": null,
            "description_width": ""
          }
        },
        "3d84e6de30ca4a8197ffa6e7b4b1efd5": {
          "model_module": "@jupyter-widgets/base",
          "model_name": "LayoutModel",
          "model_module_version": "1.2.0",
          "state": {
            "_model_module": "@jupyter-widgets/base",
            "_model_module_version": "1.2.0",
            "_model_name": "LayoutModel",
            "_view_count": null,
            "_view_module": "@jupyter-widgets/base",
            "_view_module_version": "1.2.0",
            "_view_name": "LayoutView",
            "align_content": null,
            "align_items": null,
            "align_self": null,
            "border": null,
            "bottom": null,
            "display": null,
            "flex": null,
            "flex_flow": null,
            "grid_area": null,
            "grid_auto_columns": null,
            "grid_auto_flow": null,
            "grid_auto_rows": null,
            "grid_column": null,
            "grid_gap": null,
            "grid_row": null,
            "grid_template_areas": null,
            "grid_template_columns": null,
            "grid_template_rows": null,
            "height": null,
            "justify_content": null,
            "justify_items": null,
            "left": null,
            "margin": null,
            "max_height": null,
            "max_width": null,
            "min_height": null,
            "min_width": null,
            "object_fit": null,
            "object_position": null,
            "order": null,
            "overflow": null,
            "overflow_x": null,
            "overflow_y": null,
            "padding": null,
            "right": null,
            "top": null,
            "visibility": null,
            "width": null
          }
        },
        "e9bcea3bd3c84dd1924274547c3d504e": {
          "model_module": "@jupyter-widgets/controls",
          "model_name": "DescriptionStyleModel",
          "model_module_version": "1.5.0",
          "state": {
            "_model_module": "@jupyter-widgets/controls",
            "_model_module_version": "1.5.0",
            "_model_name": "DescriptionStyleModel",
            "_view_count": null,
            "_view_module": "@jupyter-widgets/base",
            "_view_module_version": "1.2.0",
            "_view_name": "StyleView",
            "description_width": ""
          }
        },
        "56db21d0669040bfa53ba7c47bac0641": {
          "model_module": "@jupyter-widgets/controls",
          "model_name": "HBoxModel",
          "model_module_version": "1.5.0",
          "state": {
            "_dom_classes": [],
            "_model_module": "@jupyter-widgets/controls",
            "_model_module_version": "1.5.0",
            "_model_name": "HBoxModel",
            "_view_count": null,
            "_view_module": "@jupyter-widgets/controls",
            "_view_module_version": "1.5.0",
            "_view_name": "HBoxView",
            "box_style": "",
            "children": [
              "IPY_MODEL_75e1d5c3e7ed4e7a88e37c3eb3009f64",
              "IPY_MODEL_fd4e669f56f54447b01752a664d1c5ee",
              "IPY_MODEL_e3db2b451b0c4519a08d008c079acd14"
            ],
            "layout": "IPY_MODEL_ea2c9a1a47ca496c841f699737a14127"
          }
        },
        "75e1d5c3e7ed4e7a88e37c3eb3009f64": {
          "model_module": "@jupyter-widgets/controls",
          "model_name": "HTMLModel",
          "model_module_version": "1.5.0",
          "state": {
            "_dom_classes": [],
            "_model_module": "@jupyter-widgets/controls",
            "_model_module_version": "1.5.0",
            "_model_name": "HTMLModel",
            "_view_count": null,
            "_view_module": "@jupyter-widgets/controls",
            "_view_module_version": "1.5.0",
            "_view_name": "HTMLView",
            "description": "",
            "description_tooltip": null,
            "layout": "IPY_MODEL_c48b501f351f41febfe449c590ef7e31",
            "placeholder": "​",
            "style": "IPY_MODEL_558e7bb0171c44b3b2457a94d4c6f69a",
            "value": "tokenizer.json: 100%"
          }
        },
        "fd4e669f56f54447b01752a664d1c5ee": {
          "model_module": "@jupyter-widgets/controls",
          "model_name": "FloatProgressModel",
          "model_module_version": "1.5.0",
          "state": {
            "_dom_classes": [],
            "_model_module": "@jupyter-widgets/controls",
            "_model_module_version": "1.5.0",
            "_model_name": "FloatProgressModel",
            "_view_count": null,
            "_view_module": "@jupyter-widgets/controls",
            "_view_module_version": "1.5.0",
            "_view_name": "ProgressView",
            "bar_style": "success",
            "description": "",
            "description_tooltip": null,
            "layout": "IPY_MODEL_d87981189daf405e93427185ba8fd73f",
            "max": 466062,
            "min": 0,
            "orientation": "horizontal",
            "style": "IPY_MODEL_75596d3a61714ac89a61abd539112b90",
            "value": 466062
          }
        },
        "e3db2b451b0c4519a08d008c079acd14": {
          "model_module": "@jupyter-widgets/controls",
          "model_name": "HTMLModel",
          "model_module_version": "1.5.0",
          "state": {
            "_dom_classes": [],
            "_model_module": "@jupyter-widgets/controls",
            "_model_module_version": "1.5.0",
            "_model_name": "HTMLModel",
            "_view_count": null,
            "_view_module": "@jupyter-widgets/controls",
            "_view_module_version": "1.5.0",
            "_view_name": "HTMLView",
            "description": "",
            "description_tooltip": null,
            "layout": "IPY_MODEL_8bc7153a3e9247aeabbe86cc6c75d3ee",
            "placeholder": "​",
            "style": "IPY_MODEL_01af6ac8c694404eac8e044952434e73",
            "value": " 466k/466k [00:00&lt;00:00, 2.19MB/s]"
          }
        },
        "ea2c9a1a47ca496c841f699737a14127": {
          "model_module": "@jupyter-widgets/base",
          "model_name": "LayoutModel",
          "model_module_version": "1.2.0",
          "state": {
            "_model_module": "@jupyter-widgets/base",
            "_model_module_version": "1.2.0",
            "_model_name": "LayoutModel",
            "_view_count": null,
            "_view_module": "@jupyter-widgets/base",
            "_view_module_version": "1.2.0",
            "_view_name": "LayoutView",
            "align_content": null,
            "align_items": null,
            "align_self": null,
            "border": null,
            "bottom": null,
            "display": null,
            "flex": null,
            "flex_flow": null,
            "grid_area": null,
            "grid_auto_columns": null,
            "grid_auto_flow": null,
            "grid_auto_rows": null,
            "grid_column": null,
            "grid_gap": null,
            "grid_row": null,
            "grid_template_areas": null,
            "grid_template_columns": null,
            "grid_template_rows": null,
            "height": null,
            "justify_content": null,
            "justify_items": null,
            "left": null,
            "margin": null,
            "max_height": null,
            "max_width": null,
            "min_height": null,
            "min_width": null,
            "object_fit": null,
            "object_position": null,
            "order": null,
            "overflow": null,
            "overflow_x": null,
            "overflow_y": null,
            "padding": null,
            "right": null,
            "top": null,
            "visibility": null,
            "width": null
          }
        },
        "c48b501f351f41febfe449c590ef7e31": {
          "model_module": "@jupyter-widgets/base",
          "model_name": "LayoutModel",
          "model_module_version": "1.2.0",
          "state": {
            "_model_module": "@jupyter-widgets/base",
            "_model_module_version": "1.2.0",
            "_model_name": "LayoutModel",
            "_view_count": null,
            "_view_module": "@jupyter-widgets/base",
            "_view_module_version": "1.2.0",
            "_view_name": "LayoutView",
            "align_content": null,
            "align_items": null,
            "align_self": null,
            "border": null,
            "bottom": null,
            "display": null,
            "flex": null,
            "flex_flow": null,
            "grid_area": null,
            "grid_auto_columns": null,
            "grid_auto_flow": null,
            "grid_auto_rows": null,
            "grid_column": null,
            "grid_gap": null,
            "grid_row": null,
            "grid_template_areas": null,
            "grid_template_columns": null,
            "grid_template_rows": null,
            "height": null,
            "justify_content": null,
            "justify_items": null,
            "left": null,
            "margin": null,
            "max_height": null,
            "max_width": null,
            "min_height": null,
            "min_width": null,
            "object_fit": null,
            "object_position": null,
            "order": null,
            "overflow": null,
            "overflow_x": null,
            "overflow_y": null,
            "padding": null,
            "right": null,
            "top": null,
            "visibility": null,
            "width": null
          }
        },
        "558e7bb0171c44b3b2457a94d4c6f69a": {
          "model_module": "@jupyter-widgets/controls",
          "model_name": "DescriptionStyleModel",
          "model_module_version": "1.5.0",
          "state": {
            "_model_module": "@jupyter-widgets/controls",
            "_model_module_version": "1.5.0",
            "_model_name": "DescriptionStyleModel",
            "_view_count": null,
            "_view_module": "@jupyter-widgets/base",
            "_view_module_version": "1.2.0",
            "_view_name": "StyleView",
            "description_width": ""
          }
        },
        "d87981189daf405e93427185ba8fd73f": {
          "model_module": "@jupyter-widgets/base",
          "model_name": "LayoutModel",
          "model_module_version": "1.2.0",
          "state": {
            "_model_module": "@jupyter-widgets/base",
            "_model_module_version": "1.2.0",
            "_model_name": "LayoutModel",
            "_view_count": null,
            "_view_module": "@jupyter-widgets/base",
            "_view_module_version": "1.2.0",
            "_view_name": "LayoutView",
            "align_content": null,
            "align_items": null,
            "align_self": null,
            "border": null,
            "bottom": null,
            "display": null,
            "flex": null,
            "flex_flow": null,
            "grid_area": null,
            "grid_auto_columns": null,
            "grid_auto_flow": null,
            "grid_auto_rows": null,
            "grid_column": null,
            "grid_gap": null,
            "grid_row": null,
            "grid_template_areas": null,
            "grid_template_columns": null,
            "grid_template_rows": null,
            "height": null,
            "justify_content": null,
            "justify_items": null,
            "left": null,
            "margin": null,
            "max_height": null,
            "max_width": null,
            "min_height": null,
            "min_width": null,
            "object_fit": null,
            "object_position": null,
            "order": null,
            "overflow": null,
            "overflow_x": null,
            "overflow_y": null,
            "padding": null,
            "right": null,
            "top": null,
            "visibility": null,
            "width": null
          }
        },
        "75596d3a61714ac89a61abd539112b90": {
          "model_module": "@jupyter-widgets/controls",
          "model_name": "ProgressStyleModel",
          "model_module_version": "1.5.0",
          "state": {
            "_model_module": "@jupyter-widgets/controls",
            "_model_module_version": "1.5.0",
            "_model_name": "ProgressStyleModel",
            "_view_count": null,
            "_view_module": "@jupyter-widgets/base",
            "_view_module_version": "1.2.0",
            "_view_name": "StyleView",
            "bar_color": null,
            "description_width": ""
          }
        },
        "8bc7153a3e9247aeabbe86cc6c75d3ee": {
          "model_module": "@jupyter-widgets/base",
          "model_name": "LayoutModel",
          "model_module_version": "1.2.0",
          "state": {
            "_model_module": "@jupyter-widgets/base",
            "_model_module_version": "1.2.0",
            "_model_name": "LayoutModel",
            "_view_count": null,
            "_view_module": "@jupyter-widgets/base",
            "_view_module_version": "1.2.0",
            "_view_name": "LayoutView",
            "align_content": null,
            "align_items": null,
            "align_self": null,
            "border": null,
            "bottom": null,
            "display": null,
            "flex": null,
            "flex_flow": null,
            "grid_area": null,
            "grid_auto_columns": null,
            "grid_auto_flow": null,
            "grid_auto_rows": null,
            "grid_column": null,
            "grid_gap": null,
            "grid_row": null,
            "grid_template_areas": null,
            "grid_template_columns": null,
            "grid_template_rows": null,
            "height": null,
            "justify_content": null,
            "justify_items": null,
            "left": null,
            "margin": null,
            "max_height": null,
            "max_width": null,
            "min_height": null,
            "min_width": null,
            "object_fit": null,
            "object_position": null,
            "order": null,
            "overflow": null,
            "overflow_x": null,
            "overflow_y": null,
            "padding": null,
            "right": null,
            "top": null,
            "visibility": null,
            "width": null
          }
        },
        "01af6ac8c694404eac8e044952434e73": {
          "model_module": "@jupyter-widgets/controls",
          "model_name": "DescriptionStyleModel",
          "model_module_version": "1.5.0",
          "state": {
            "_model_module": "@jupyter-widgets/controls",
            "_model_module_version": "1.5.0",
            "_model_name": "DescriptionStyleModel",
            "_view_count": null,
            "_view_module": "@jupyter-widgets/base",
            "_view_module_version": "1.2.0",
            "_view_name": "StyleView",
            "description_width": ""
          }
        },
        "47f6dfd1e5dd40b68c4d8a15c3783b7b": {
          "model_module": "@jupyter-widgets/controls",
          "model_name": "HBoxModel",
          "model_module_version": "1.5.0",
          "state": {
            "_dom_classes": [],
            "_model_module": "@jupyter-widgets/controls",
            "_model_module_version": "1.5.0",
            "_model_name": "HBoxModel",
            "_view_count": null,
            "_view_module": "@jupyter-widgets/controls",
            "_view_module_version": "1.5.0",
            "_view_name": "HBoxView",
            "box_style": "",
            "children": [
              "IPY_MODEL_eef9e32bbf5f49218cc74cebdb8ee249",
              "IPY_MODEL_96431d8bcd7749389b59919fc1481892",
              "IPY_MODEL_4746749c9d8e43da924537b382c6b651"
            ],
            "layout": "IPY_MODEL_718d29d8d6f34bf697972b5b806f538f"
          }
        },
        "eef9e32bbf5f49218cc74cebdb8ee249": {
          "model_module": "@jupyter-widgets/controls",
          "model_name": "HTMLModel",
          "model_module_version": "1.5.0",
          "state": {
            "_dom_classes": [],
            "_model_module": "@jupyter-widgets/controls",
            "_model_module_version": "1.5.0",
            "_model_name": "HTMLModel",
            "_view_count": null,
            "_view_module": "@jupyter-widgets/controls",
            "_view_module_version": "1.5.0",
            "_view_name": "HTMLView",
            "description": "",
            "description_tooltip": null,
            "layout": "IPY_MODEL_cbf30f9c0bbd409e872e97647c499a05",
            "placeholder": "​",
            "style": "IPY_MODEL_5d8d9fcadf2a47a0b4c835bc86fe34e8",
            "value": "config.json: 100%"
          }
        },
        "96431d8bcd7749389b59919fc1481892": {
          "model_module": "@jupyter-widgets/controls",
          "model_name": "FloatProgressModel",
          "model_module_version": "1.5.0",
          "state": {
            "_dom_classes": [],
            "_model_module": "@jupyter-widgets/controls",
            "_model_module_version": "1.5.0",
            "_model_name": "FloatProgressModel",
            "_view_count": null,
            "_view_module": "@jupyter-widgets/controls",
            "_view_module_version": "1.5.0",
            "_view_name": "ProgressView",
            "bar_style": "success",
            "description": "",
            "description_tooltip": null,
            "layout": "IPY_MODEL_2f46f380955b44de89bd3b09b9fa9997",
            "max": 570,
            "min": 0,
            "orientation": "horizontal",
            "style": "IPY_MODEL_d360feb5da574bb0aab0e21ef8cdbf18",
            "value": 570
          }
        },
        "4746749c9d8e43da924537b382c6b651": {
          "model_module": "@jupyter-widgets/controls",
          "model_name": "HTMLModel",
          "model_module_version": "1.5.0",
          "state": {
            "_dom_classes": [],
            "_model_module": "@jupyter-widgets/controls",
            "_model_module_version": "1.5.0",
            "_model_name": "HTMLModel",
            "_view_count": null,
            "_view_module": "@jupyter-widgets/controls",
            "_view_module_version": "1.5.0",
            "_view_name": "HTMLView",
            "description": "",
            "description_tooltip": null,
            "layout": "IPY_MODEL_b7bd84e10d164406ae049f9479c8fa76",
            "placeholder": "​",
            "style": "IPY_MODEL_91ac0c2282774483a203c1813a8c080b",
            "value": " 570/570 [00:00&lt;00:00, 4.88kB/s]"
          }
        },
        "718d29d8d6f34bf697972b5b806f538f": {
          "model_module": "@jupyter-widgets/base",
          "model_name": "LayoutModel",
          "model_module_version": "1.2.0",
          "state": {
            "_model_module": "@jupyter-widgets/base",
            "_model_module_version": "1.2.0",
            "_model_name": "LayoutModel",
            "_view_count": null,
            "_view_module": "@jupyter-widgets/base",
            "_view_module_version": "1.2.0",
            "_view_name": "LayoutView",
            "align_content": null,
            "align_items": null,
            "align_self": null,
            "border": null,
            "bottom": null,
            "display": null,
            "flex": null,
            "flex_flow": null,
            "grid_area": null,
            "grid_auto_columns": null,
            "grid_auto_flow": null,
            "grid_auto_rows": null,
            "grid_column": null,
            "grid_gap": null,
            "grid_row": null,
            "grid_template_areas": null,
            "grid_template_columns": null,
            "grid_template_rows": null,
            "height": null,
            "justify_content": null,
            "justify_items": null,
            "left": null,
            "margin": null,
            "max_height": null,
            "max_width": null,
            "min_height": null,
            "min_width": null,
            "object_fit": null,
            "object_position": null,
            "order": null,
            "overflow": null,
            "overflow_x": null,
            "overflow_y": null,
            "padding": null,
            "right": null,
            "top": null,
            "visibility": null,
            "width": null
          }
        },
        "cbf30f9c0bbd409e872e97647c499a05": {
          "model_module": "@jupyter-widgets/base",
          "model_name": "LayoutModel",
          "model_module_version": "1.2.0",
          "state": {
            "_model_module": "@jupyter-widgets/base",
            "_model_module_version": "1.2.0",
            "_model_name": "LayoutModel",
            "_view_count": null,
            "_view_module": "@jupyter-widgets/base",
            "_view_module_version": "1.2.0",
            "_view_name": "LayoutView",
            "align_content": null,
            "align_items": null,
            "align_self": null,
            "border": null,
            "bottom": null,
            "display": null,
            "flex": null,
            "flex_flow": null,
            "grid_area": null,
            "grid_auto_columns": null,
            "grid_auto_flow": null,
            "grid_auto_rows": null,
            "grid_column": null,
            "grid_gap": null,
            "grid_row": null,
            "grid_template_areas": null,
            "grid_template_columns": null,
            "grid_template_rows": null,
            "height": null,
            "justify_content": null,
            "justify_items": null,
            "left": null,
            "margin": null,
            "max_height": null,
            "max_width": null,
            "min_height": null,
            "min_width": null,
            "object_fit": null,
            "object_position": null,
            "order": null,
            "overflow": null,
            "overflow_x": null,
            "overflow_y": null,
            "padding": null,
            "right": null,
            "top": null,
            "visibility": null,
            "width": null
          }
        },
        "5d8d9fcadf2a47a0b4c835bc86fe34e8": {
          "model_module": "@jupyter-widgets/controls",
          "model_name": "DescriptionStyleModel",
          "model_module_version": "1.5.0",
          "state": {
            "_model_module": "@jupyter-widgets/controls",
            "_model_module_version": "1.5.0",
            "_model_name": "DescriptionStyleModel",
            "_view_count": null,
            "_view_module": "@jupyter-widgets/base",
            "_view_module_version": "1.2.0",
            "_view_name": "StyleView",
            "description_width": ""
          }
        },
        "2f46f380955b44de89bd3b09b9fa9997": {
          "model_module": "@jupyter-widgets/base",
          "model_name": "LayoutModel",
          "model_module_version": "1.2.0",
          "state": {
            "_model_module": "@jupyter-widgets/base",
            "_model_module_version": "1.2.0",
            "_model_name": "LayoutModel",
            "_view_count": null,
            "_view_module": "@jupyter-widgets/base",
            "_view_module_version": "1.2.0",
            "_view_name": "LayoutView",
            "align_content": null,
            "align_items": null,
            "align_self": null,
            "border": null,
            "bottom": null,
            "display": null,
            "flex": null,
            "flex_flow": null,
            "grid_area": null,
            "grid_auto_columns": null,
            "grid_auto_flow": null,
            "grid_auto_rows": null,
            "grid_column": null,
            "grid_gap": null,
            "grid_row": null,
            "grid_template_areas": null,
            "grid_template_columns": null,
            "grid_template_rows": null,
            "height": null,
            "justify_content": null,
            "justify_items": null,
            "left": null,
            "margin": null,
            "max_height": null,
            "max_width": null,
            "min_height": null,
            "min_width": null,
            "object_fit": null,
            "object_position": null,
            "order": null,
            "overflow": null,
            "overflow_x": null,
            "overflow_y": null,
            "padding": null,
            "right": null,
            "top": null,
            "visibility": null,
            "width": null
          }
        },
        "d360feb5da574bb0aab0e21ef8cdbf18": {
          "model_module": "@jupyter-widgets/controls",
          "model_name": "ProgressStyleModel",
          "model_module_version": "1.5.0",
          "state": {
            "_model_module": "@jupyter-widgets/controls",
            "_model_module_version": "1.5.0",
            "_model_name": "ProgressStyleModel",
            "_view_count": null,
            "_view_module": "@jupyter-widgets/base",
            "_view_module_version": "1.2.0",
            "_view_name": "StyleView",
            "bar_color": null,
            "description_width": ""
          }
        },
        "b7bd84e10d164406ae049f9479c8fa76": {
          "model_module": "@jupyter-widgets/base",
          "model_name": "LayoutModel",
          "model_module_version": "1.2.0",
          "state": {
            "_model_module": "@jupyter-widgets/base",
            "_model_module_version": "1.2.0",
            "_model_name": "LayoutModel",
            "_view_count": null,
            "_view_module": "@jupyter-widgets/base",
            "_view_module_version": "1.2.0",
            "_view_name": "LayoutView",
            "align_content": null,
            "align_items": null,
            "align_self": null,
            "border": null,
            "bottom": null,
            "display": null,
            "flex": null,
            "flex_flow": null,
            "grid_area": null,
            "grid_auto_columns": null,
            "grid_auto_flow": null,
            "grid_auto_rows": null,
            "grid_column": null,
            "grid_gap": null,
            "grid_row": null,
            "grid_template_areas": null,
            "grid_template_columns": null,
            "grid_template_rows": null,
            "height": null,
            "justify_content": null,
            "justify_items": null,
            "left": null,
            "margin": null,
            "max_height": null,
            "max_width": null,
            "min_height": null,
            "min_width": null,
            "object_fit": null,
            "object_position": null,
            "order": null,
            "overflow": null,
            "overflow_x": null,
            "overflow_y": null,
            "padding": null,
            "right": null,
            "top": null,
            "visibility": null,
            "width": null
          }
        },
        "91ac0c2282774483a203c1813a8c080b": {
          "model_module": "@jupyter-widgets/controls",
          "model_name": "DescriptionStyleModel",
          "model_module_version": "1.5.0",
          "state": {
            "_model_module": "@jupyter-widgets/controls",
            "_model_module_version": "1.5.0",
            "_model_name": "DescriptionStyleModel",
            "_view_count": null,
            "_view_module": "@jupyter-widgets/base",
            "_view_module_version": "1.2.0",
            "_view_name": "StyleView",
            "description_width": ""
          }
        },
        "b95d0c1570244aea81c85bcbdfb809b0": {
          "model_module": "@jupyter-widgets/controls",
          "model_name": "HBoxModel",
          "model_module_version": "1.5.0",
          "state": {
            "_dom_classes": [],
            "_model_module": "@jupyter-widgets/controls",
            "_model_module_version": "1.5.0",
            "_model_name": "HBoxModel",
            "_view_count": null,
            "_view_module": "@jupyter-widgets/controls",
            "_view_module_version": "1.5.0",
            "_view_name": "HBoxView",
            "box_style": "",
            "children": [
              "IPY_MODEL_5491a03e03d64793bec50e5195cd85a3",
              "IPY_MODEL_da22d5b0806043d1a7f479614cd0a935",
              "IPY_MODEL_15cfb841136547ab843b23f87c3b83da"
            ],
            "layout": "IPY_MODEL_a4b1f22ddd01499fb88587ef9af2f571"
          }
        },
        "5491a03e03d64793bec50e5195cd85a3": {
          "model_module": "@jupyter-widgets/controls",
          "model_name": "HTMLModel",
          "model_module_version": "1.5.0",
          "state": {
            "_dom_classes": [],
            "_model_module": "@jupyter-widgets/controls",
            "_model_module_version": "1.5.0",
            "_model_name": "HTMLModel",
            "_view_count": null,
            "_view_module": "@jupyter-widgets/controls",
            "_view_module_version": "1.5.0",
            "_view_name": "HTMLView",
            "description": "",
            "description_tooltip": null,
            "layout": "IPY_MODEL_cf3a0b29e3d349c8aef6087857a3578e",
            "placeholder": "​",
            "style": "IPY_MODEL_3413d3e3540d41689f076bed9db206ed",
            "value": "model.safetensors: 100%"
          }
        },
        "da22d5b0806043d1a7f479614cd0a935": {
          "model_module": "@jupyter-widgets/controls",
          "model_name": "FloatProgressModel",
          "model_module_version": "1.5.0",
          "state": {
            "_dom_classes": [],
            "_model_module": "@jupyter-widgets/controls",
            "_model_module_version": "1.5.0",
            "_model_name": "FloatProgressModel",
            "_view_count": null,
            "_view_module": "@jupyter-widgets/controls",
            "_view_module_version": "1.5.0",
            "_view_name": "ProgressView",
            "bar_style": "success",
            "description": "",
            "description_tooltip": null,
            "layout": "IPY_MODEL_8bdc43ccf9a343babdb8b7773ad3e927",
            "max": 440449768,
            "min": 0,
            "orientation": "horizontal",
            "style": "IPY_MODEL_d896e023f12b471283dc13a40154a4f4",
            "value": 440449768
          }
        },
        "15cfb841136547ab843b23f87c3b83da": {
          "model_module": "@jupyter-widgets/controls",
          "model_name": "HTMLModel",
          "model_module_version": "1.5.0",
          "state": {
            "_dom_classes": [],
            "_model_module": "@jupyter-widgets/controls",
            "_model_module_version": "1.5.0",
            "_model_name": "HTMLModel",
            "_view_count": null,
            "_view_module": "@jupyter-widgets/controls",
            "_view_module_version": "1.5.0",
            "_view_name": "HTMLView",
            "description": "",
            "description_tooltip": null,
            "layout": "IPY_MODEL_890a75de6c0f49039bcf47ce79740141",
            "placeholder": "​",
            "style": "IPY_MODEL_44f4bd8bf53f457ebbba04492db715ef",
            "value": " 440M/440M [00:03&lt;00:00, 186MB/s]"
          }
        },
        "a4b1f22ddd01499fb88587ef9af2f571": {
          "model_module": "@jupyter-widgets/base",
          "model_name": "LayoutModel",
          "model_module_version": "1.2.0",
          "state": {
            "_model_module": "@jupyter-widgets/base",
            "_model_module_version": "1.2.0",
            "_model_name": "LayoutModel",
            "_view_count": null,
            "_view_module": "@jupyter-widgets/base",
            "_view_module_version": "1.2.0",
            "_view_name": "LayoutView",
            "align_content": null,
            "align_items": null,
            "align_self": null,
            "border": null,
            "bottom": null,
            "display": null,
            "flex": null,
            "flex_flow": null,
            "grid_area": null,
            "grid_auto_columns": null,
            "grid_auto_flow": null,
            "grid_auto_rows": null,
            "grid_column": null,
            "grid_gap": null,
            "grid_row": null,
            "grid_template_areas": null,
            "grid_template_columns": null,
            "grid_template_rows": null,
            "height": null,
            "justify_content": null,
            "justify_items": null,
            "left": null,
            "margin": null,
            "max_height": null,
            "max_width": null,
            "min_height": null,
            "min_width": null,
            "object_fit": null,
            "object_position": null,
            "order": null,
            "overflow": null,
            "overflow_x": null,
            "overflow_y": null,
            "padding": null,
            "right": null,
            "top": null,
            "visibility": null,
            "width": null
          }
        },
        "cf3a0b29e3d349c8aef6087857a3578e": {
          "model_module": "@jupyter-widgets/base",
          "model_name": "LayoutModel",
          "model_module_version": "1.2.0",
          "state": {
            "_model_module": "@jupyter-widgets/base",
            "_model_module_version": "1.2.0",
            "_model_name": "LayoutModel",
            "_view_count": null,
            "_view_module": "@jupyter-widgets/base",
            "_view_module_version": "1.2.0",
            "_view_name": "LayoutView",
            "align_content": null,
            "align_items": null,
            "align_self": null,
            "border": null,
            "bottom": null,
            "display": null,
            "flex": null,
            "flex_flow": null,
            "grid_area": null,
            "grid_auto_columns": null,
            "grid_auto_flow": null,
            "grid_auto_rows": null,
            "grid_column": null,
            "grid_gap": null,
            "grid_row": null,
            "grid_template_areas": null,
            "grid_template_columns": null,
            "grid_template_rows": null,
            "height": null,
            "justify_content": null,
            "justify_items": null,
            "left": null,
            "margin": null,
            "max_height": null,
            "max_width": null,
            "min_height": null,
            "min_width": null,
            "object_fit": null,
            "object_position": null,
            "order": null,
            "overflow": null,
            "overflow_x": null,
            "overflow_y": null,
            "padding": null,
            "right": null,
            "top": null,
            "visibility": null,
            "width": null
          }
        },
        "3413d3e3540d41689f076bed9db206ed": {
          "model_module": "@jupyter-widgets/controls",
          "model_name": "DescriptionStyleModel",
          "model_module_version": "1.5.0",
          "state": {
            "_model_module": "@jupyter-widgets/controls",
            "_model_module_version": "1.5.0",
            "_model_name": "DescriptionStyleModel",
            "_view_count": null,
            "_view_module": "@jupyter-widgets/base",
            "_view_module_version": "1.2.0",
            "_view_name": "StyleView",
            "description_width": ""
          }
        },
        "8bdc43ccf9a343babdb8b7773ad3e927": {
          "model_module": "@jupyter-widgets/base",
          "model_name": "LayoutModel",
          "model_module_version": "1.2.0",
          "state": {
            "_model_module": "@jupyter-widgets/base",
            "_model_module_version": "1.2.0",
            "_model_name": "LayoutModel",
            "_view_count": null,
            "_view_module": "@jupyter-widgets/base",
            "_view_module_version": "1.2.0",
            "_view_name": "LayoutView",
            "align_content": null,
            "align_items": null,
            "align_self": null,
            "border": null,
            "bottom": null,
            "display": null,
            "flex": null,
            "flex_flow": null,
            "grid_area": null,
            "grid_auto_columns": null,
            "grid_auto_flow": null,
            "grid_auto_rows": null,
            "grid_column": null,
            "grid_gap": null,
            "grid_row": null,
            "grid_template_areas": null,
            "grid_template_columns": null,
            "grid_template_rows": null,
            "height": null,
            "justify_content": null,
            "justify_items": null,
            "left": null,
            "margin": null,
            "max_height": null,
            "max_width": null,
            "min_height": null,
            "min_width": null,
            "object_fit": null,
            "object_position": null,
            "order": null,
            "overflow": null,
            "overflow_x": null,
            "overflow_y": null,
            "padding": null,
            "right": null,
            "top": null,
            "visibility": null,
            "width": null
          }
        },
        "d896e023f12b471283dc13a40154a4f4": {
          "model_module": "@jupyter-widgets/controls",
          "model_name": "ProgressStyleModel",
          "model_module_version": "1.5.0",
          "state": {
            "_model_module": "@jupyter-widgets/controls",
            "_model_module_version": "1.5.0",
            "_model_name": "ProgressStyleModel",
            "_view_count": null,
            "_view_module": "@jupyter-widgets/base",
            "_view_module_version": "1.2.0",
            "_view_name": "StyleView",
            "bar_color": null,
            "description_width": ""
          }
        },
        "890a75de6c0f49039bcf47ce79740141": {
          "model_module": "@jupyter-widgets/base",
          "model_name": "LayoutModel",
          "model_module_version": "1.2.0",
          "state": {
            "_model_module": "@jupyter-widgets/base",
            "_model_module_version": "1.2.0",
            "_model_name": "LayoutModel",
            "_view_count": null,
            "_view_module": "@jupyter-widgets/base",
            "_view_module_version": "1.2.0",
            "_view_name": "LayoutView",
            "align_content": null,
            "align_items": null,
            "align_self": null,
            "border": null,
            "bottom": null,
            "display": null,
            "flex": null,
            "flex_flow": null,
            "grid_area": null,
            "grid_auto_columns": null,
            "grid_auto_flow": null,
            "grid_auto_rows": null,
            "grid_column": null,
            "grid_gap": null,
            "grid_row": null,
            "grid_template_areas": null,
            "grid_template_columns": null,
            "grid_template_rows": null,
            "height": null,
            "justify_content": null,
            "justify_items": null,
            "left": null,
            "margin": null,
            "max_height": null,
            "max_width": null,
            "min_height": null,
            "min_width": null,
            "object_fit": null,
            "object_position": null,
            "order": null,
            "overflow": null,
            "overflow_x": null,
            "overflow_y": null,
            "padding": null,
            "right": null,
            "top": null,
            "visibility": null,
            "width": null
          }
        },
        "44f4bd8bf53f457ebbba04492db715ef": {
          "model_module": "@jupyter-widgets/controls",
          "model_name": "DescriptionStyleModel",
          "model_module_version": "1.5.0",
          "state": {
            "_model_module": "@jupyter-widgets/controls",
            "_model_module_version": "1.5.0",
            "_model_name": "DescriptionStyleModel",
            "_view_count": null,
            "_view_module": "@jupyter-widgets/base",
            "_view_module_version": "1.2.0",
            "_view_name": "StyleView",
            "description_width": ""
          }
        }
      }
    }
  },
  "nbformat": 4,
  "nbformat_minor": 0
}